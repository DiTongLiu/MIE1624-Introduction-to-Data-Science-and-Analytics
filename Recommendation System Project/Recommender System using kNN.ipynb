{
 "cells": [
  {
   "cell_type": "markdown",
   "metadata": {
    "colab_type": "text",
    "id": "QcQtUhFJEm--"
   },
   "source": [
    "# Import important libraries"
   ]
  },
  {
   "cell_type": "code",
   "execution_count": 0,
   "metadata": {
    "colab": {
     "base_uri": "https://localhost:8080/",
     "height": 34
    },
    "colab_type": "code",
    "executionInfo": {
     "elapsed": 2807,
     "status": "ok",
     "timestamp": 1583797295436,
     "user": {
      "displayName": "Shu Xu",
      "photoUrl": "",
      "userId": "10614678628647528947"
     },
     "user_tz": 240
    },
    "id": "csY2Tq0ay3Ou",
    "outputId": "03d98b08-671f-496d-921d-9f81ac154ba2"
   },
   "outputs": [
    {
     "name": "stdout",
     "output_type": "stream",
     "text": [
      "Requirement already satisfied: wget in /usr/local/lib/python3.6/dist-packages (3.2)\n"
     ]
    }
   ],
   "source": [
    "# import required libraries\n",
    "!pip install wget\n",
    "import os\n",
    "import os.path\n",
    "import numpy as np\n",
    "import pandas as pd\n",
    "from math import sqrt\n",
    "from heapq import nlargest\n",
    "from tqdm import trange\n",
    "from tqdm import tqdm\n",
    "from scipy import stats\n",
    "from sklearn.metrics.pairwise import pairwise_distances\n",
    "from sklearn.metrics import mean_squared_error\n",
    "from sklearn.model_selection import train_test_split\n",
    "import matplotlib.pyplot as plt\n",
    "\n",
    "import warnings\n",
    "\n",
    "warnings.filterwarnings(\"ignore\")\n",
    "# The majority of the following codes have been borrowed and modified from MIE1513"
   ]
  },
  {
   "cell_type": "code",
   "execution_count": 0,
   "metadata": {
    "colab": {},
    "colab_type": "code",
    "id": "P-U5vWKsy3O-"
   },
   "outputs": [],
   "source": [
    "from zipfile import ZipFile "
   ]
  },
  {
   "cell_type": "code",
   "execution_count": 0,
   "metadata": {
    "colab": {},
    "colab_type": "code",
    "id": "6ARt3ypwy3PG"
   },
   "outputs": [],
   "source": [
    "file_name = \"ml-100k.zip\""
   ]
  },
  {
   "cell_type": "code",
   "execution_count": 0,
   "metadata": {
    "colab": {
     "base_uri": "https://localhost:8080/",
     "height": 470
    },
    "colab_type": "code",
    "executionInfo": {
     "elapsed": 408,
     "status": "ok",
     "timestamp": 1583797302242,
     "user": {
      "displayName": "Shu Xu",
      "photoUrl": "",
      "userId": "10614678628647528947"
     },
     "user_tz": 240
    },
    "id": "kaK6Hm48y3PO",
    "outputId": "9bb4d087-21c5-4ce8-ed35-a3835545df21"
   },
   "outputs": [
    {
     "name": "stdout",
     "output_type": "stream",
     "text": [
      "File Name                                             Modified             Size\n",
      "ml-100k/                                       2016-01-29 14:26:28            0\n",
      "ml-100k/allbut.pl                              2000-07-19 16:09:28          716\n",
      "ml-100k/mku.sh                                 2000-07-19 16:09:28          643\n",
      "ml-100k/README                                 2016-01-29 14:26:28         6750\n",
      "ml-100k/u.data                                 2000-07-19 16:09:30      1979173\n",
      "ml-100k/u.genre                                2000-07-19 16:09:30          202\n",
      "ml-100k/u.info                                 2000-07-19 16:09:30           36\n",
      "ml-100k/u.item                                 2000-07-19 16:09:30       236344\n",
      "ml-100k/u.occupation                           2000-07-19 16:09:30          193\n",
      "ml-100k/u.user                                 2000-07-19 16:09:30        22628\n",
      "ml-100k/u1.base                                2001-03-08 12:33:08      1586544\n",
      "ml-100k/u1.test                                2001-03-08 12:32:56       392629\n",
      "ml-100k/u2.base                                2001-03-08 12:33:24      1583948\n",
      "ml-100k/u2.test                                2001-03-08 12:33:12       395225\n",
      "ml-100k/u3.base                                2001-03-08 12:33:38      1582546\n",
      "ml-100k/u3.test                                2001-03-08 12:33:26       396627\n",
      "ml-100k/u4.base                                2001-03-08 12:33:52      1581878\n",
      "ml-100k/u4.test                                2001-03-08 12:33:40       397295\n",
      "ml-100k/u5.base                                2001-03-08 12:34:04      1581776\n",
      "ml-100k/u5.test                                2001-03-08 12:33:54       397397\n",
      "ml-100k/ua.base                                2001-03-08 12:34:18      1792501\n",
      "ml-100k/ua.test                                2001-03-08 12:34:18       186672\n",
      "ml-100k/ub.base                                2001-03-08 12:34:34      1792476\n",
      "ml-100k/ub.test                                2001-03-08 12:34:36       186697\n",
      "Extracting all the files now...\n",
      "Done!\n"
     ]
    }
   ],
   "source": [
    "with ZipFile(file_name, 'r') as zip: \n",
    "    # printing all the contents of the zip file \n",
    "    zip.printdir() \n",
    "  \n",
    "    # extracting all the files \n",
    "    print('Extracting all the files now...') \n",
    "    zip.extractall() \n",
    "    print('Done!') "
   ]
  },
  {
   "cell_type": "code",
   "execution_count": 0,
   "metadata": {
    "colab": {},
    "colab_type": "code",
    "id": "U9QVwoo0y3Pj"
   },
   "outputs": [],
   "source": [
    "MOVIELENS_DIR = \"ml-100k\""
   ]
  },
  {
   "cell_type": "markdown",
   "metadata": {
    "colab_type": "text",
    "id": "0L_3L_qUEueU"
   },
   "source": [
    "# Read MovieLens Data"
   ]
  },
  {
   "cell_type": "markdown",
   "metadata": {
    "colab_type": "text",
    "id": "AIPbI9ZsE3Fb"
   },
   "source": [
    "### Define getData function to read the corrsponding dataframe"
   ]
  },
  {
   "cell_type": "code",
   "execution_count": 0,
   "metadata": {
    "colab": {},
    "colab_type": "code",
    "id": "SMagzp2Xy3PV"
   },
   "outputs": [],
   "source": [
    "def getData(folder_path, file_name):\n",
    "    fields = ['userID', 'itemID', 'rating', 'timestamp']\n",
    "    data = pd.read_csv(os.path.join(folder_path, file_name), sep='\\t', names=fields)\n",
    "    return data"
   ]
  },
  {
   "cell_type": "code",
   "execution_count": 0,
   "metadata": {
    "colab": {},
    "colab_type": "code",
    "id": "7D1zz_uqy3Po"
   },
   "outputs": [],
   "source": [
    "rating_df = getData(MOVIELENS_DIR, 'u.data') "
   ]
  },
  {
   "cell_type": "code",
   "execution_count": 0,
   "metadata": {
    "colab": {
     "base_uri": "https://localhost:8080/",
     "height": 195
    },
    "colab_type": "code",
    "executionInfo": {
     "elapsed": 299,
     "status": "ok",
     "timestamp": 1583797324510,
     "user": {
      "displayName": "Shu Xu",
      "photoUrl": "",
      "userId": "10614678628647528947"
     },
     "user_tz": 240
    },
    "id": "7bp6FLx7y3Pu",
    "outputId": "a4e82724-348c-4575-a0a3-5ea1fd447f6e"
   },
   "outputs": [
    {
     "data": {
      "text/html": [
       "<div>\n",
       "<style scoped>\n",
       "    .dataframe tbody tr th:only-of-type {\n",
       "        vertical-align: middle;\n",
       "    }\n",
       "\n",
       "    .dataframe tbody tr th {\n",
       "        vertical-align: top;\n",
       "    }\n",
       "\n",
       "    .dataframe thead th {\n",
       "        text-align: right;\n",
       "    }\n",
       "</style>\n",
       "<table border=\"1\" class=\"dataframe\">\n",
       "  <thead>\n",
       "    <tr style=\"text-align: right;\">\n",
       "      <th></th>\n",
       "      <th>userID</th>\n",
       "      <th>itemID</th>\n",
       "      <th>rating</th>\n",
       "      <th>timestamp</th>\n",
       "    </tr>\n",
       "  </thead>\n",
       "  <tbody>\n",
       "    <tr>\n",
       "      <th>99995</th>\n",
       "      <td>880</td>\n",
       "      <td>476</td>\n",
       "      <td>3</td>\n",
       "      <td>880175444</td>\n",
       "    </tr>\n",
       "    <tr>\n",
       "      <th>99996</th>\n",
       "      <td>716</td>\n",
       "      <td>204</td>\n",
       "      <td>5</td>\n",
       "      <td>879795543</td>\n",
       "    </tr>\n",
       "    <tr>\n",
       "      <th>99997</th>\n",
       "      <td>276</td>\n",
       "      <td>1090</td>\n",
       "      <td>1</td>\n",
       "      <td>874795795</td>\n",
       "    </tr>\n",
       "    <tr>\n",
       "      <th>99998</th>\n",
       "      <td>13</td>\n",
       "      <td>225</td>\n",
       "      <td>2</td>\n",
       "      <td>882399156</td>\n",
       "    </tr>\n",
       "    <tr>\n",
       "      <th>99999</th>\n",
       "      <td>12</td>\n",
       "      <td>203</td>\n",
       "      <td>3</td>\n",
       "      <td>879959583</td>\n",
       "    </tr>\n",
       "  </tbody>\n",
       "</table>\n",
       "</div>"
      ],
      "text/plain": [
       "       userID  itemID  rating  timestamp\n",
       "99995     880     476       3  880175444\n",
       "99996     716     204       5  879795543\n",
       "99997     276    1090       1  874795795\n",
       "99998      13     225       2  882399156\n",
       "99999      12     203       3  879959583"
      ]
     },
     "execution_count": 184,
     "metadata": {
      "tags": []
     },
     "output_type": "execute_result"
    }
   ],
   "source": [
    "rating_df.tail()"
   ]
  },
  {
   "cell_type": "code",
   "execution_count": 0,
   "metadata": {
    "colab": {
     "base_uri": "https://localhost:8080/",
     "height": 34
    },
    "colab_type": "code",
    "executionInfo": {
     "elapsed": 302,
     "status": "ok",
     "timestamp": 1583797325539,
     "user": {
      "displayName": "Shu Xu",
      "photoUrl": "",
      "userId": "10614678628647528947"
     },
     "user_tz": 240
    },
    "id": "IDa9lbx-8j3P",
    "outputId": "4398f087-c675-4cdd-9991-ace8baecf908"
   },
   "outputs": [
    {
     "data": {
      "text/plain": [
       "(100000, 4)"
      ]
     },
     "execution_count": 185,
     "metadata": {
      "tags": []
     },
     "output_type": "execute_result"
    }
   ],
   "source": [
    "rating_df.shape"
   ]
  },
  {
   "cell_type": "markdown",
   "metadata": {
    "colab_type": "text",
    "id": "Erg_SpNWNS2I"
   },
   "source": [
    "### Data Exploration"
   ]
  },
  {
   "cell_type": "code",
   "execution_count": 0,
   "metadata": {
    "colab": {},
    "colab_type": "code",
    "id": "qP-lXxeVNiL5"
   },
   "outputs": [],
   "source": [
    "rating_number = rating_df.drop(['timestamp','itemID'],axis=1)\n",
    "rating_number = rating_number.groupby('userID')['rating'].count().reset_index()"
   ]
  },
  {
   "cell_type": "code",
   "execution_count": 0,
   "metadata": {
    "colab": {
     "base_uri": "https://localhost:8080/",
     "height": 367
    },
    "colab_type": "code",
    "executionInfo": {
     "elapsed": 402,
     "status": "ok",
     "timestamp": 1583797327828,
     "user": {
      "displayName": "Shu Xu",
      "photoUrl": "",
      "userId": "10614678628647528947"
     },
     "user_tz": 240
    },
    "id": "TExqWkZWNlAt",
    "outputId": "496c0f18-d7e0-481b-d5de-472fe244c0b3"
   },
   "outputs": [
    {
     "data": {
      "text/plain": [
       "Text(0, 0.5, '# of ratings ')"
      ]
     },
     "execution_count": 187,
     "metadata": {
      "tags": []
     },
     "output_type": "execute_result"
    },
    {
     "data": {
      "image/png": "[encoded data removed]",
      "text/plain": [
       "<Figure size 720x360 with 1 Axes>"
      ]
     },
     "metadata": {
      "tags": []
     },
     "output_type": "display_data"
    }
   ],
   "source": [
    "plt.figure(figsize=(10,5))\n",
    "plot = plt.hist(rating_number['rating'])\n",
    "plt.title('number of ratings per user')\n",
    "plt.xlabel('users')\n",
    "plt.ylabel('# of ratings ')"
   ]
  },
  {
   "cell_type": "markdown",
   "metadata": {
    "colab_type": "text",
    "id": "V_sUUcffE9TF"
   },
   "source": [
    "### Check the number of uers and number of items"
   ]
  },
  {
   "cell_type": "code",
   "execution_count": 0,
   "metadata": {
    "colab": {
     "base_uri": "https://localhost:8080/",
     "height": 50
    },
    "colab_type": "code",
    "executionInfo": {
     "elapsed": 300,
     "status": "ok",
     "timestamp": 1583797329120,
     "user": {
      "displayName": "Shu Xu",
      "photoUrl": "",
      "userId": "10614678628647528947"
     },
     "user_tz": 240
    },
    "id": "1KOgPMaty3Py",
    "outputId": "18bc8ac1-c88a-49ed-be74-92ecb88e6bdb"
   },
   "outputs": [
    {
     "name": "stdout",
     "output_type": "stream",
     "text": [
      "Number of users: 943\n",
      "Number of items: 1682\n"
     ]
    }
   ],
   "source": [
    "numUsers = len(rating_df.userID.unique())\n",
    "numItems = len(rating_df.itemID.unique())\n",
    "print(\"Number of users:\", numUsers)\n",
    "print(\"Number of items:\", numItems)"
   ]
  },
  {
   "cell_type": "markdown",
   "metadata": {
    "colab_type": "text",
    "id": "7b1ad7uMFCYB"
   },
   "source": [
    "# Build User Item Matrix for further analysis.\n",
    "<p>The shape of the matrix is UxI"
   ]
  },
  {
   "cell_type": "code",
   "execution_count": 0,
   "metadata": {
    "colab": {},
    "colab_type": "code",
    "id": "54yLuOGoK1v8"
   },
   "outputs": [],
   "source": [
    "def buildUserItemMatrix(dataset, numUsers, numItems):\n",
    "    # Initialize a of size (numUsers, numItems) to zeros\n",
    "    matrix = np.zeros((numUsers, numItems), dtype=np.int8)\n",
    "    \n",
    "    # Populate the matrix based on the dataset\n",
    "    for (index, userID, itemID, rating, timestamp) in dataset.itertuples():\n",
    "        matrix[userID-1, itemID-1] = rating\n",
    "    return matrix"
   ]
  },
  {
   "cell_type": "markdown",
   "metadata": {
    "colab_type": "text",
    "id": "4nxXsMSXFboZ"
   },
   "source": [
    "### Split the data into train and test data, then append them into folds for cross validation."
   ]
  },
  {
   "cell_type": "code",
   "execution_count": 0,
   "metadata": {
    "colab": {},
    "colab_type": "code",
    "id": "de9pueN8SMvt"
   },
   "outputs": [],
   "source": [
    "# use u1 to u6 as the folds of cross validation, read them as csv file\n",
    "folds = []\n",
    "data_types = ['u{0}.base','u{0}.test']\n",
    "for i in range(1,6):\n",
    "    train_set = getData(MOVIELENS_DIR, data_types[0].format(i))\n",
    "    test_set = getData(MOVIELENS_DIR, data_types[1].format(i))\n",
    "    folds.append([train_set, test_set])"
   ]
  },
  {
   "cell_type": "code",
   "execution_count": 0,
   "metadata": {
    "colab": {},
    "colab_type": "code",
    "id": "mkXf2_AtLiR4"
   },
   "outputs": [],
   "source": [
    "#def kNearestNeighbor(sim, k):\n",
    "#    sim_matrix = sim_matrix.copy()\n",
    "#    m,n = sim_matrix.shape\n",
    "#    for i in range(m):\n",
    "        # only keep the k largest number\n",
    "#        sim_matrix[i, sim_matrix[i].argsort()[:-k]] = 0\n",
    "#    return sim_matrix"
   ]
  },
  {
   "cell_type": "markdown",
   "metadata": {
    "colab_type": "text",
    "id": "vmj8pwUoIm1N"
   },
   "source": [
    "# User-User Collaborative Filtering"
   ]
  },
  {
   "cell_type": "code",
   "execution_count": 0,
   "metadata": {
    "colab": {},
    "colab_type": "code",
    "id": "M1yifhXdIr4C"
   },
   "outputs": [],
   "source": [
    "def user_user_RecSys(trainSet, knn=None):\n",
    "    temp_matrix = np.zeros(trainSet.shape)\n",
    "    temp_matrix[trainSet.nonzero()] = 1\n",
    "\n",
    "    uu_similarity = 1 - pairwise_distances(trainSet, metric='cosine')\n",
    "    if knn is not None:\n",
    "        uu_similarity = uu_similarity.copy()\n",
    "        m,n = uu_similarity.shape\n",
    "        for i in range(m):\n",
    "        # only keep the k largest number\n",
    "            uu_similarity[i, uu_similarity[i].argsort()[:-knn]] = 0\n",
    "            \n",
    "    normalizer = np.matmul(uu_similarity, temp_matrix)\n",
    "    normalizer[normalizer == 0] = 1e-5\n",
    "    \n",
    "    predictionMatrix = np.matmul(uu_similarity, trainSet)/normalizer\n",
    "    \n",
    "    return predictionMatrix"
   ]
  },
  {
   "cell_type": "code",
   "execution_count": 0,
   "metadata": {
    "colab": {},
    "colab_type": "code",
    "id": "qqT9XfGcUE6M"
   },
   "outputs": [],
   "source": [
    "def rmse(pred, test):\n",
    "    predItems = pred[test.nonzero()].flatten() \n",
    "    testItems = test[test.nonzero()].flatten()\n",
    "    return sqrt(mean_squared_error(predItems, testItems))"
   ]
  },
  {
   "cell_type": "code",
   "execution_count": 0,
   "metadata": {
    "colab": {
     "base_uri": "https://localhost:8080/",
     "height": 134
    },
    "colab_type": "code",
    "executionInfo": {
     "elapsed": 18898,
     "status": "ok",
     "timestamp": 1583797354322,
     "user": {
      "displayName": "Shu Xu",
      "photoUrl": "",
      "userId": "10614678628647528947"
     },
     "user_tz": 240
    },
    "id": "3oTAGL_fI_DM",
    "outputId": "773dd16d-f6a9-40ae-fddf-988fcf4ed467"
   },
   "outputs": [
    {
     "name": "stdout",
     "output_type": "stream",
     "text": [
      "With 20 nearest neightbour, the fold scores are[1.2793447692024946, 1.2771940669420847, 1.2608178195797883, 1.2513253992890154, 1.269111124932971]\n",
      "With 30 nearest neightbour, the fold scores are[1.19260659398186, 1.1831531264550263, 1.1773371348793586, 1.167157326744175, 1.1682370596496723]\n",
      "With 40 nearest neightbour, the fold scores are[1.150449679293232, 1.1351900438291225, 1.135166968885256, 1.1253537049042905, 1.1248286368803817]\n",
      "With 50 nearest neightbour, the fold scores are[1.1183824715858848, 1.1073323473824659, 1.108372966020668, 1.0965619630353436, 1.1024410946712924]\n",
      "With 60 nearest neightbour, the fold scores are[1.0977642955079794, 1.0879639964581005, 1.0873102392378713, 1.0742267107956307, 1.0858432313188326]\n",
      "With 70 nearest neightbour, the fold scores are[1.0806840133993856, 1.0719983345326283, 1.074812634448114, 1.0644683700769881, 1.0747515894952655]\n",
      "With 80 nearest neightbour, the fold scores are[1.0721759390248053, 1.0597485706205472, 1.0676306867419263, 1.052250167547115, 1.0656538675755087]\n"
     ]
    }
   ],
   "source": [
    "from numpy import mean\n",
    "number_of_k = [20,30,40,50, 60, 70, 80]\n",
    "scores= []\n",
    "fold_average = []\n",
    "for i in number_of_k:\n",
    "    fold_scores = []\n",
    "    \n",
    "    for fold in folds:\n",
    "        userSimPrediction = user_user_RecSys(buildUserItemMatrix(fold[0], numUsers, numItems), knn=i)  #(Tune this k to use differnt k value for knn)\n",
    "        fold_scores.append(rmse(userSimPrediction, buildUserItemMatrix(fold[1], numUsers, numItems))) #(can add a for loop to do hyperparameter tuning)\n",
    "    print('With {} nearest neightbour, the fold scores are{}'.format(i,fold_scores))    \n",
    "    scores.append(fold_scores)\n",
    "    fold_average.append(mean(fold_scores))\n",
    "#buildUserItemMatrix is to turn dataframe into user-item matrix\n",
    "#can ignore the warnings by import warning, similar like 1624, logisticRegression.ipynb, they used ignore warnings as well"
   ]
  },
  {
   "cell_type": "code",
   "execution_count": 0,
   "metadata": {
    "colab": {
     "base_uri": "https://localhost:8080/",
     "height": 605
    },
    "colab_type": "code",
    "executionInfo": {
     "elapsed": 342,
     "status": "ok",
     "timestamp": 1583797390984,
     "user": {
      "displayName": "Shu Xu",
      "photoUrl": "",
      "userId": "10614678628647528947"
     },
     "user_tz": 240
    },
    "id": "Z_viQSP3JILj",
    "outputId": "9c653686-1509-47ed-876c-9fa6cbc30108"
   },
   "outputs": [
    {
     "data": {
      "text/plain": [
       "[[1.2793447692024946,\n",
       "  1.2771940669420847,\n",
       "  1.2608178195797883,\n",
       "  1.2513253992890154,\n",
       "  1.269111124932971],\n",
       " [1.19260659398186,\n",
       "  1.1831531264550263,\n",
       "  1.1773371348793586,\n",
       "  1.167157326744175,\n",
       "  1.1682370596496723],\n",
       " [1.150449679293232,\n",
       "  1.1351900438291225,\n",
       "  1.135166968885256,\n",
       "  1.1253537049042905,\n",
       "  1.1248286368803817],\n",
       " [1.1183824715858848,\n",
       "  1.1073323473824659,\n",
       "  1.108372966020668,\n",
       "  1.0965619630353436,\n",
       "  1.1024410946712924],\n",
       " [1.0977642955079794,\n",
       "  1.0879639964581005,\n",
       "  1.0873102392378713,\n",
       "  1.0742267107956307,\n",
       "  1.0858432313188326],\n",
       " [1.0806840133993856,\n",
       "  1.0719983345326283,\n",
       "  1.074812634448114,\n",
       "  1.0644683700769881,\n",
       "  1.0747515894952655],\n",
       " [1.0721759390248053,\n",
       "  1.0597485706205472,\n",
       "  1.0676306867419263,\n",
       "  1.052250167547115,\n",
       "  1.0656538675755087]]"
      ]
     },
     "execution_count": 195,
     "metadata": {
      "tags": []
     },
     "output_type": "execute_result"
    }
   ],
   "source": [
    "scores"
   ]
  },
  {
   "cell_type": "code",
   "execution_count": 0,
   "metadata": {
    "colab": {
     "base_uri": "https://localhost:8080/",
     "height": 134
    },
    "colab_type": "code",
    "executionInfo": {
     "elapsed": 311,
     "status": "ok",
     "timestamp": 1583797392063,
     "user": {
      "displayName": "Shu Xu",
      "photoUrl": "",
      "userId": "10614678628647528947"
     },
     "user_tz": 240
    },
    "id": "W-2a_TDxfhA4",
    "outputId": "462e2981-928c-488e-98f5-eb0d15ce57ee"
   },
   "outputs": [
    {
     "data": {
      "text/plain": [
       "[1.2675586359892708,\n",
       " 1.1776982483420186,\n",
       " 1.1341978067584566,\n",
       " 1.106618168539131,\n",
       " 1.0866216946636829,\n",
       " 1.0733429883904761,\n",
       " 1.0634918463019805]"
      ]
     },
     "execution_count": 196,
     "metadata": {
      "tags": []
     },
     "output_type": "execute_result"
    }
   ],
   "source": [
    "fold_average"
   ]
  },
  {
   "cell_type": "code",
   "execution_count": 0,
   "metadata": {
    "colab": {
     "base_uri": "https://localhost:8080/",
     "height": 350
    },
    "colab_type": "code",
    "executionInfo": {
     "elapsed": 428,
     "status": "ok",
     "timestamp": 1583797392927,
     "user": {
      "displayName": "Shu Xu",
      "photoUrl": "",
      "userId": "10614678628647528947"
     },
     "user_tz": 240
    },
    "id": "ZiTbdFHwJGc9",
    "outputId": "b769e73f-2300-483b-f458-4118b35412c9"
   },
   "outputs": [
    {
     "data": {
      "image/png": "[encoded data removed]",
      "text/plain": [
       "<Figure size 720x360 with 1 Axes>"
      ]
     },
     "metadata": {
      "tags": []
     },
     "output_type": "display_data"
    }
   ],
   "source": [
    "plt.figure(figsize=(10,5))\n",
    "plt.plot(range(1,6),scores[0])\n",
    "plt.plot(range(1,6),scores[1])\n",
    "plt.plot(range(1,6),scores[2])\n",
    "plt.plot(range(1,6),scores[3])\n",
    "\n",
    "plt.legend([\"20 Neariest Neighbour\",\"30 Neariest Neighbour\",\"40 Neariest Neighbour\",\"50 Neariest Neighbour\"], loc = 'top_right')\n",
    "\n",
    "plt.xticks(range(1,6,1))\n",
    "plt.ylabel(\"Root Mean Squared Error\")\n",
    "plt.title(\"User-User RMSE for the 5-fold cross validation\")\n",
    "plt.xlabel(\"User Datasets\")\n",
    "plt.grid()\n",
    "plt.show()"
   ]
  },
  {
   "cell_type": "code",
   "execution_count": 0,
   "metadata": {
    "colab": {
     "base_uri": "https://localhost:8080/",
     "height": 350
    },
    "colab_type": "code",
    "executionInfo": {
     "elapsed": 486,
     "status": "ok",
     "timestamp": 1583797394563,
     "user": {
      "displayName": "Shu Xu",
      "photoUrl": "",
      "userId": "10614678628647528947"
     },
     "user_tz": 240
    },
    "id": "tHZjrGsnfrUP",
    "outputId": "0b9feeb1-3a56-45a8-b8de-da5717003898"
   },
   "outputs": [
    {
     "data": {
      "image/png": "[encoded data removed]",
      "text/plain": [
       "<Figure size 720x360 with 1 Axes>"
      ]
     },
     "metadata": {
      "tags": []
     },
     "output_type": "display_data"
    }
   ],
   "source": [
    "plt.figure(figsize=(10,5))\n",
    "plt.plot(number_of_k,fold_average)\n",
    "plt.ylabel(\"Root Mean Squared Error\")\n",
    "plt.title(\"User-User RMSE for different value of K neighbors\")\n",
    "plt.xlabel(\"K neighbors\")\n",
    "plt.show()"
   ]
  },
  {
   "cell_type": "markdown",
   "metadata": {
    "colab_type": "text",
    "id": "p-3St2eIF-OH"
   },
   "source": [
    "# Item-Item Collaborative Filtering"
   ]
  },
  {
   "cell_type": "code",
   "execution_count": 0,
   "metadata": {
    "colab": {},
    "colab_type": "code",
    "id": "FN7X_BQE6gPL"
   },
   "outputs": [],
   "source": [
    "def item_item_RecSys(trainSet, knn=None):\n",
    "    trainSet = trainSet.transpose()\n",
    "    temp_matrix = np.zeros(trainSet.shape)\n",
    "    temp_matrix[trainSet.nonzero()] = 1\n",
    "\n",
    "    ii_similarity = 1 - pairwise_distances(trainSet, metric='cosine')\n",
    "    if knn is not None:\n",
    "        ii_similarity = ii_similarity.copy()\n",
    "        m,n = ii_similarity.shape\n",
    "        for i in range(m):\n",
    "        # only keep the k largest number\n",
    "            ii_similarity[i, ii_similarity[i].argsort()[:-knn]] = 0\n",
    "            \n",
    "    normalizer = np.matmul(ii_similarity, temp_matrix)\n",
    "    normalizer[normalizer == 0] = 1e-5\n",
    "    \n",
    "    predictionMatrix = np.matmul(ii_similarity, trainSet)/normalizer\n",
    "    \n",
    "    return predictionMatrix.transpose()"
   ]
  },
  {
   "cell_type": "code",
   "execution_count": 0,
   "metadata": {
    "colab": {
     "base_uri": "https://localhost:8080/",
     "height": 134
    },
    "colab_type": "code",
    "executionInfo": {
     "elapsed": 29347,
     "status": "ok",
     "timestamp": 1583797426479,
     "user": {
      "displayName": "Shu Xu",
      "photoUrl": "",
      "userId": "10614678628647528947"
     },
     "user_tz": 240
    },
    "id": "D7tr-u1OerTm",
    "outputId": "3ab6f43c-0d65-42d3-8528-1b2342184648"
   },
   "outputs": [
    {
     "name": "stdout",
     "output_type": "stream",
     "text": [
      "With 20 nearest neightbour, the fold scores are[1.3073730793393332, 1.214940922817544, 1.2065892482429352, 1.2171506815714723, 1.2694137718031229]\n",
      "With 30 nearest neightbour, the fold scores are[1.1930162473598438, 1.1246842526445995, 1.116356934841176, 1.1321768141520905, 1.1556496696159184]\n",
      "With 40 nearest neightbour, the fold scores are[1.131667256642828, 1.078461624039943, 1.0661251811016006, 1.0810100166184553, 1.098788886706028]\n",
      "With 50 nearest neightbour, the fold scores are[1.0922257537991578, 1.0475723757217443, 1.035537329890477, 1.0603317678714925, 1.0624102553971757]\n",
      "With 60 nearest neightbour, the fold scores are[1.0755327566061044, 1.02672059965092, 1.0182775204132803, 1.0374579414350342, 1.0395058283280072]\n",
      "With 70 nearest neightbour, the fold scores are[1.0537615701023275, 1.013667861774278, 1.0079958431711333, 1.0233650908879492, 1.0262608644321132]\n",
      "With 80 nearest neightbour, the fold scores are[1.0371537944263396, 1.0038334005857845, 0.9972886403560537, 1.0110482022606442, 1.0153787417593052]\n"
     ]
    }
   ],
   "source": [
    "\n",
    "number_of_k = [20,30,40,50, 60, 70, 80]\n",
    "scores= []\n",
    "fold_average = []\n",
    "for i in number_of_k:\n",
    "    fold_scores = []\n",
    "    \n",
    "    for fold in folds:\n",
    "        itemSimPrediction = item_item_RecSys(buildUserItemMatrix(fold[0], numUsers, numItems), knn=i)  #(Tune this k to use differnt k value for knn)\n",
    "        fold_scores.append(rmse(itemSimPrediction, buildUserItemMatrix(fold[1], numUsers, numItems))) #(can add a for loop to do hyperparameter tuning)\n",
    "    print('With {} nearest neightbour, the fold scores are{}'.format(i,fold_scores))    \n",
    "    scores.append(fold_scores)\n",
    "    fold_average.append(mean(fold_scores))\n",
    "#buildUserItemMatrix is to turn dataframe into user-item matrix\n",
    "#can ignore the warnings by import warning, similar like 1624, logisticRegression.ipynb, they used ignore warnings as well\n",
    "#buildUserItemMatrix is to trun dataframe into user-item matrix\n",
    "#can ignore the warnings by import warning, similar like 1624, logisticRegression.ipynb, they used ignore warnings as well"
   ]
  },
  {
   "cell_type": "code",
   "execution_count": 0,
   "metadata": {
    "colab": {
     "base_uri": "https://localhost:8080/",
     "height": 605
    },
    "colab_type": "code",
    "executionInfo": {
     "elapsed": 321,
     "status": "ok",
     "timestamp": 1583797429768,
     "user": {
      "displayName": "Shu Xu",
      "photoUrl": "",
      "userId": "10614678628647528947"
     },
     "user_tz": 240
    },
    "id": "v4nBKIk0eXTy",
    "outputId": "7174003f-2d1f-4319-d130-a621ef15aef0"
   },
   "outputs": [
    {
     "data": {
      "text/plain": [
       "[[1.3073730793393332,\n",
       "  1.214940922817544,\n",
       "  1.2065892482429352,\n",
       "  1.2171506815714723,\n",
       "  1.2694137718031229],\n",
       " [1.1930162473598438,\n",
       "  1.1246842526445995,\n",
       "  1.116356934841176,\n",
       "  1.1321768141520905,\n",
       "  1.1556496696159184],\n",
       " [1.131667256642828,\n",
       "  1.078461624039943,\n",
       "  1.0661251811016006,\n",
       "  1.0810100166184553,\n",
       "  1.098788886706028],\n",
       " [1.0922257537991578,\n",
       "  1.0475723757217443,\n",
       "  1.035537329890477,\n",
       "  1.0603317678714925,\n",
       "  1.0624102553971757],\n",
       " [1.0755327566061044,\n",
       "  1.02672059965092,\n",
       "  1.0182775204132803,\n",
       "  1.0374579414350342,\n",
       "  1.0395058283280072],\n",
       " [1.0537615701023275,\n",
       "  1.013667861774278,\n",
       "  1.0079958431711333,\n",
       "  1.0233650908879492,\n",
       "  1.0262608644321132],\n",
       " [1.0371537944263396,\n",
       "  1.0038334005857845,\n",
       "  0.9972886403560537,\n",
       "  1.0110482022606442,\n",
       "  1.0153787417593052]]"
      ]
     },
     "execution_count": 201,
     "metadata": {
      "tags": []
     },
     "output_type": "execute_result"
    }
   ],
   "source": [
    "scores"
   ]
  },
  {
   "cell_type": "code",
   "execution_count": 0,
   "metadata": {
    "colab": {
     "base_uri": "https://localhost:8080/",
     "height": 134
    },
    "colab_type": "code",
    "executionInfo": {
     "elapsed": 396,
     "status": "ok",
     "timestamp": 1583797430783,
     "user": {
      "displayName": "Shu Xu",
      "photoUrl": "",
      "userId": "10614678628647528947"
     },
     "user_tz": 240
    },
    "id": "Iwvu2h-YozGR",
    "outputId": "b66d38d7-e997-42fe-c0ca-40eb37c091ef"
   },
   "outputs": [
    {
     "data": {
      "text/plain": [
       "[1.2430935407548815,\n",
       " 1.1443767837227257,\n",
       " 1.091210593021771,\n",
       " 1.0596154965360096,\n",
       " 1.0394989292866694,\n",
       " 1.0250102460735602,\n",
       " 1.0129405558776257]"
      ]
     },
     "execution_count": 202,
     "metadata": {
      "tags": []
     },
     "output_type": "execute_result"
    }
   ],
   "source": [
    "fold_average"
   ]
  },
  {
   "cell_type": "code",
   "execution_count": 0,
   "metadata": {
    "colab": {
     "base_uri": "https://localhost:8080/",
     "height": 350
    },
    "colab_type": "code",
    "executionInfo": {
     "elapsed": 476,
     "status": "ok",
     "timestamp": 1583797431718,
     "user": {
      "displayName": "Shu Xu",
      "photoUrl": "",
      "userId": "10614678628647528947"
     },
     "user_tz": 240
    },
    "id": "duy205iiGfX7",
    "outputId": "b9570f4c-547d-431f-e558-6fc50561ff4b"
   },
   "outputs": [
    {
     "data": {
      "image/png": "[encoded data removed]",
      "text/plain": [
       "<Figure size 720x360 with 1 Axes>"
      ]
     },
     "metadata": {
      "tags": []
     },
     "output_type": "display_data"
    }
   ],
   "source": [
    "plt.figure(figsize=(10,5))\n",
    "plt.plot(range(1,6),scores[0])\n",
    "plt.plot(range(1,6),scores[1])\n",
    "plt.plot(range(1,6),scores[2])\n",
    "plt.plot(range(1,6),scores[3])\n",
    "plt.legend([\"20 Neariest Neighbour\",\"30 Neariest Neighbour\",\"40 Neariest Neighbour\",\"50 Neariest Neighbour\"])\n",
    "\n",
    "plt.xticks(range(1,6,1))\n",
    "plt.ylabel(\"Root Mean Squared Error\")\n",
    "plt.title(\"Item-Item RMSE for the 5-fold cross validation\")\n",
    "plt.xlabel(\"User Datasets\")\n",
    "plt.grid()\n",
    "plt.show()"
   ]
  },
  {
   "cell_type": "code",
   "execution_count": 0,
   "metadata": {
    "colab": {
     "base_uri": "https://localhost:8080/",
     "height": 350
    },
    "colab_type": "code",
    "executionInfo": {
     "elapsed": 452,
     "status": "ok",
     "timestamp": 1583797432751,
     "user": {
      "displayName": "Shu Xu",
      "photoUrl": "",
      "userId": "10614678628647528947"
     },
     "user_tz": 240
    },
    "id": "eP-vY16WqrDc",
    "outputId": "407ee03a-8e15-4ff4-97fc-d9023c03e95f"
   },
   "outputs": [
    {
     "data": {
      "image/png": "[encoded data removed]",
      "text/plain": [
       "<Figure size 720x360 with 1 Axes>"
      ]
     },
     "metadata": {
      "tags": []
     },
     "output_type": "display_data"
    }
   ],
   "source": [
    "plt.figure(figsize=(10,5))\n",
    "plt.plot(number_of_k,fold_average)\n",
    "plt.ylabel(\"Root Mean Squared Error\")\n",
    "plt.title(\"item-item RMSE for different value of K neighbors\")\n",
    "plt.xlabel(\"K neighbors\")\n",
    "plt.show()"
   ]
  },
  {
   "cell_type": "markdown",
   "metadata": {
    "colab_type": "text",
    "id": "gkM-tyMdGc5F"
   },
   "source": [
    "# Make recommendations"
   ]
  },
  {
   "cell_type": "code",
   "execution_count": 0,
   "metadata": {
    "colab": {},
    "colab_type": "code",
    "id": "TgvN_oBqNEEd"
   },
   "outputs": [],
   "source": [
    "def userTopM(prediction, moviesDataset, userID, m):\n",
    "    # Pick top K based on predicted rating\n",
    "    userVector = prediction[userID-1,:]\n",
    "    topM = nlargest(m, range(len(userVector)), userVector.take)\n",
    "    namesTopM = list(map(lambda x: moviesDataset[moviesDataset.movieID == x+1][\"movieTitle\"].values[0], topM))\n",
    "    return namesTopM\n",
    "# define a topK function because users don't care if you have 10000 recommendation or not, they just care the topK that has the higest similarity!!!"
   ]
  },
  {
   "cell_type": "code",
   "execution_count": 0,
   "metadata": {
    "colab": {
     "base_uri": "https://localhost:8080/",
     "height": 333
    },
    "colab_type": "code",
    "executionInfo": {
     "elapsed": 337,
     "status": "ok",
     "timestamp": 1583797567226,
     "user": {
      "displayName": "Shu Xu",
      "photoUrl": "",
      "userId": "10614678628647528947"
     },
     "user_tz": 240
    },
    "id": "xS1pBCYDODjW",
    "outputId": "b30e2cd7-e7b7-48e8-b910-db92dbafc981"
   },
   "outputs": [
    {
     "data": {
      "text/html": [
       "<div>\n",
       "<style scoped>\n",
       "    .dataframe tbody tr th:only-of-type {\n",
       "        vertical-align: middle;\n",
       "    }\n",
       "\n",
       "    .dataframe tbody tr th {\n",
       "        vertical-align: top;\n",
       "    }\n",
       "\n",
       "    .dataframe thead th {\n",
       "        text-align: right;\n",
       "    }\n",
       "</style>\n",
       "<table border=\"1\" class=\"dataframe\">\n",
       "  <thead>\n",
       "    <tr style=\"text-align: right;\">\n",
       "      <th></th>\n",
       "      <th>movieID</th>\n",
       "      <th>movieTitle</th>\n",
       "      <th>releaseDate</th>\n",
       "      <th>videoReleaseDate</th>\n",
       "      <th>IMDbURL</th>\n",
       "      <th>unknown</th>\n",
       "      <th>action</th>\n",
       "      <th>adventure</th>\n",
       "      <th>animation</th>\n",
       "      <th>childrens</th>\n",
       "      <th>comedy</th>\n",
       "      <th>crime</th>\n",
       "      <th>documentary</th>\n",
       "      <th>drama</th>\n",
       "      <th>fantasy</th>\n",
       "      <th>filmNoir</th>\n",
       "      <th>horror</th>\n",
       "      <th>musical</th>\n",
       "      <th>mystery</th>\n",
       "      <th>romance</th>\n",
       "      <th>sciFi</th>\n",
       "      <th>thriller</th>\n",
       "      <th>war</th>\n",
       "      <th>western</th>\n",
       "    </tr>\n",
       "  </thead>\n",
       "  <tbody>\n",
       "    <tr>\n",
       "      <th>0</th>\n",
       "      <td>1</td>\n",
       "      <td>Toy Story (1995)</td>\n",
       "      <td>01-Jan-1995</td>\n",
       "      <td>NaN</td>\n",
       "      <td>http://us.imdb.com/M/title-exact?Toy%20Story%2...</td>\n",
       "      <td>0</td>\n",
       "      <td>0</td>\n",
       "      <td>0</td>\n",
       "      <td>1</td>\n",
       "      <td>1</td>\n",
       "      <td>1</td>\n",
       "      <td>0</td>\n",
       "      <td>0</td>\n",
       "      <td>0</td>\n",
       "      <td>0</td>\n",
       "      <td>0</td>\n",
       "      <td>0</td>\n",
       "      <td>0</td>\n",
       "      <td>0</td>\n",
       "      <td>0</td>\n",
       "      <td>0</td>\n",
       "      <td>0</td>\n",
       "      <td>0</td>\n",
       "      <td>0</td>\n",
       "    </tr>\n",
       "    <tr>\n",
       "      <th>1</th>\n",
       "      <td>2</td>\n",
       "      <td>GoldenEye (1995)</td>\n",
       "      <td>01-Jan-1995</td>\n",
       "      <td>NaN</td>\n",
       "      <td>http://us.imdb.com/M/title-exact?GoldenEye%20(...</td>\n",
       "      <td>0</td>\n",
       "      <td>1</td>\n",
       "      <td>1</td>\n",
       "      <td>0</td>\n",
       "      <td>0</td>\n",
       "      <td>0</td>\n",
       "      <td>0</td>\n",
       "      <td>0</td>\n",
       "      <td>0</td>\n",
       "      <td>0</td>\n",
       "      <td>0</td>\n",
       "      <td>0</td>\n",
       "      <td>0</td>\n",
       "      <td>0</td>\n",
       "      <td>0</td>\n",
       "      <td>0</td>\n",
       "      <td>1</td>\n",
       "      <td>0</td>\n",
       "      <td>0</td>\n",
       "    </tr>\n",
       "    <tr>\n",
       "      <th>2</th>\n",
       "      <td>3</td>\n",
       "      <td>Four Rooms (1995)</td>\n",
       "      <td>01-Jan-1995</td>\n",
       "      <td>NaN</td>\n",
       "      <td>http://us.imdb.com/M/title-exact?Four%20Rooms%...</td>\n",
       "      <td>0</td>\n",
       "      <td>0</td>\n",
       "      <td>0</td>\n",
       "      <td>0</td>\n",
       "      <td>0</td>\n",
       "      <td>0</td>\n",
       "      <td>0</td>\n",
       "      <td>0</td>\n",
       "      <td>0</td>\n",
       "      <td>0</td>\n",
       "      <td>0</td>\n",
       "      <td>0</td>\n",
       "      <td>0</td>\n",
       "      <td>0</td>\n",
       "      <td>0</td>\n",
       "      <td>0</td>\n",
       "      <td>1</td>\n",
       "      <td>0</td>\n",
       "      <td>0</td>\n",
       "    </tr>\n",
       "    <tr>\n",
       "      <th>3</th>\n",
       "      <td>4</td>\n",
       "      <td>Get Shorty (1995)</td>\n",
       "      <td>01-Jan-1995</td>\n",
       "      <td>NaN</td>\n",
       "      <td>http://us.imdb.com/M/title-exact?Get%20Shorty%...</td>\n",
       "      <td>0</td>\n",
       "      <td>1</td>\n",
       "      <td>0</td>\n",
       "      <td>0</td>\n",
       "      <td>0</td>\n",
       "      <td>1</td>\n",
       "      <td>0</td>\n",
       "      <td>0</td>\n",
       "      <td>1</td>\n",
       "      <td>0</td>\n",
       "      <td>0</td>\n",
       "      <td>0</td>\n",
       "      <td>0</td>\n",
       "      <td>0</td>\n",
       "      <td>0</td>\n",
       "      <td>0</td>\n",
       "      <td>0</td>\n",
       "      <td>0</td>\n",
       "      <td>0</td>\n",
       "    </tr>\n",
       "    <tr>\n",
       "      <th>4</th>\n",
       "      <td>5</td>\n",
       "      <td>Copycat (1995)</td>\n",
       "      <td>01-Jan-1995</td>\n",
       "      <td>NaN</td>\n",
       "      <td>http://us.imdb.com/M/title-exact?Copycat%20(1995)</td>\n",
       "      <td>0</td>\n",
       "      <td>0</td>\n",
       "      <td>0</td>\n",
       "      <td>0</td>\n",
       "      <td>0</td>\n",
       "      <td>0</td>\n",
       "      <td>1</td>\n",
       "      <td>0</td>\n",
       "      <td>1</td>\n",
       "      <td>0</td>\n",
       "      <td>0</td>\n",
       "      <td>0</td>\n",
       "      <td>0</td>\n",
       "      <td>0</td>\n",
       "      <td>0</td>\n",
       "      <td>0</td>\n",
       "      <td>1</td>\n",
       "      <td>0</td>\n",
       "      <td>0</td>\n",
       "    </tr>\n",
       "  </tbody>\n",
       "</table>\n",
       "</div>"
      ],
      "text/plain": [
       "   movieID         movieTitle  releaseDate  ...  thriller war  western\n",
       "0        1   Toy Story (1995)  01-Jan-1995  ...         0   0        0\n",
       "1        2   GoldenEye (1995)  01-Jan-1995  ...         1   0        0\n",
       "2        3  Four Rooms (1995)  01-Jan-1995  ...         1   0        0\n",
       "3        4  Get Shorty (1995)  01-Jan-1995  ...         0   0        0\n",
       "4        5     Copycat (1995)  01-Jan-1995  ...         1   0        0\n",
       "\n",
       "[5 rows x 24 columns]"
      ]
     },
     "execution_count": 211,
     "metadata": {
      "tags": []
     },
     "output_type": "execute_result"
    }
   ],
   "source": [
    "fieldsMovies = ['movieID', 'movieTitle', 'releaseDate', 'videoReleaseDate', 'IMDbURL', 'unknown', 'action', 'adventure',\n",
    "          'animation', 'childrens', 'comedy', 'crime', 'documentary', 'drama', 'fantasy', 'filmNoir', 'horror',\n",
    "          'musical', 'mystery', 'romance','sciFi', 'thriller', 'war', 'western']\n",
    "moviesDF = pd.read_csv(os.path.join(MOVIELENS_DIR, 'u.item'), sep='|', names=fieldsMovies, encoding='latin-1')\n",
    "\n",
    "moviesDF.head()"
   ]
  },
  {
   "cell_type": "code",
   "execution_count": 0,
   "metadata": {
    "colab": {
     "base_uri": "https://localhost:8080/",
     "height": 185
    },
    "colab_type": "code",
    "executionInfo": {
     "elapsed": 290,
     "status": "ok",
     "timestamp": 1583797450977,
     "user": {
      "displayName": "Shu Xu",
      "photoUrl": "",
      "userId": "10614678628647528947"
     },
     "user_tz": 240
    },
    "id": "bI0_eBU7N2WM",
    "outputId": "21e9034f-b7e1-444a-c5a5-0142fa4a775e"
   },
   "outputs": [
    {
     "data": {
      "text/plain": [
       "['Priest (1994)',\n",
       " 'Tales from the Crypt Presents: Bordello of Blood (1996)',\n",
       " 'Boxing Helena (1993)',\n",
       " 'True Crime (1995)',\n",
       " 'Stalingrad (1993)',\n",
       " 'Audrey Rose (1977)',\n",
       " 'Othello (1995)',\n",
       " 'Bad Taste (1987)',\n",
       " 'Trigger Effect, The (1996)',\n",
       " 'Double vie de Véronique, La (Double Life of Veronique, The) (1991)']"
      ]
     },
     "execution_count": 207,
     "metadata": {
      "tags": []
     },
     "output_type": "execute_result"
    }
   ],
   "source": [
    "userTopM(userSimPrediction, moviesDF, 350, 10) #change userSimPrediction to final model's prediction to get the recommendation"
   ]
  },
  {
   "cell_type": "code",
   "execution_count": 0,
   "metadata": {
    "colab": {
     "base_uri": "https://localhost:8080/",
     "height": 185
    },
    "colab_type": "code",
    "executionInfo": {
     "elapsed": 318,
     "status": "ok",
     "timestamp": 1583797451805,
     "user": {
      "displayName": "Shu Xu",
      "photoUrl": "",
      "userId": "10614678628647528947"
     },
     "user_tz": 240
    },
    "id": "GSICvZrPJufy",
    "outputId": "b742fd5b-e6bf-464c-de1a-488b5e636d09"
   },
   "outputs": [
    {
     "data": {
      "text/plain": [
       "['Misérables, Les (1995)',\n",
       " 'Tales from the Hood (1995)',\n",
       " 'Police Story 4: Project S (Chao ji ji hua) (1993)',\n",
       " \"Daniel Defoe's Robinson Crusoe (1996)\",\n",
       " 'Tin Drum, The (Blechtrommel, Die) (1979)',\n",
       " 'Fire on the Mountain (1996)',\n",
       " 'Daylight (1996)',\n",
       " 'Funeral, The (1996)',\n",
       " 'Blue in the Face (1995)',\n",
       " 'Before Sunrise (1995)']"
      ]
     },
     "execution_count": 208,
     "metadata": {
      "tags": []
     },
     "output_type": "execute_result"
    }
   ],
   "source": [
    "userTopM(itemSimPrediction, moviesDF, 350, 10) #change userSimPrediction to final model's prediction to get the recommendation"
   ]
  },
  {
   "cell_type": "code",
   "execution_count": 0,
   "metadata": {
    "colab": {
     "base_uri": "https://localhost:8080/",
     "height": 118
    },
    "colab_type": "code",
    "executionInfo": {
     "elapsed": 2925,
     "status": "ok",
     "timestamp": 1583797455211,
     "user": {
      "displayName": "Shu Xu",
      "photoUrl": "",
      "userId": "10614678628647528947"
     },
     "user_tz": 240
    },
    "id": "lB5EOXwEhqiE",
    "outputId": "92d3589a-844b-4cc4-9601-808cb80929ca"
   },
   "outputs": [
    {
     "name": "stdout",
     "output_type": "stream",
     "text": [
      "Requirement already satisfied: surprise in /usr/local/lib/python3.6/dist-packages (0.1)\n",
      "Requirement already satisfied: scikit-surprise in /usr/local/lib/python3.6/dist-packages (from surprise) (1.1.0)\n",
      "Requirement already satisfied: numpy>=1.11.2 in /usr/local/lib/python3.6/dist-packages (from scikit-surprise->surprise) (1.17.5)\n",
      "Requirement already satisfied: scipy>=1.0.0 in /usr/local/lib/python3.6/dist-packages (from scikit-surprise->surprise) (1.4.1)\n",
      "Requirement already satisfied: joblib>=0.11 in /usr/local/lib/python3.6/dist-packages (from scikit-surprise->surprise) (0.14.1)\n",
      "Requirement already satisfied: six>=1.10.0 in /usr/local/lib/python3.6/dist-packages (from scikit-surprise->surprise) (1.12.0)\n"
     ]
    }
   ],
   "source": [
    "pip install surprise"
   ]
  },
  {
   "cell_type": "code",
   "execution_count": 0,
   "metadata": {
    "colab": {},
    "colab_type": "code",
    "id": "q3P53-YKRPgF"
   },
   "outputs": [],
   "source": [
    "# the following code will perform item to itme collabroative filtering based on \n",
    "# surprise module.\n",
    "# these par of code is modified from the online source: \"Evaluation of Recommender\n",
    "# Algorithms in Surprise on Yelp Ratings\"\n",
    "# coded by bmanohar from https://bmanohar16.github.io/blog/recsys-evaluation-in-surprise\n",
    "from surprise import Reader\n",
    "from surprise.model_selection import cross_validate\n",
    "from surprise.model_selection import GridSearchCV\n",
    "from surprise import KNNWithMeans, KNNBasic\n",
    "from surprise import SVD\n",
    "from surprise import Dataset"
   ]
  },
  {
   "cell_type": "code",
   "execution_count": 0,
   "metadata": {
    "colab": {},
    "colab_type": "code",
    "id": "qlSaaPmoiR4F"
   },
   "outputs": [],
   "source": [
    "data = Dataset.load_builtin('ml-100k')"
   ]
  },
  {
   "cell_type": "code",
   "execution_count": 0,
   "metadata": {
    "colab": {},
    "colab_type": "code",
    "id": "D58IFc09kNwQ"
   },
   "outputs": [],
   "source": [
    "sim_options = {\n",
    "    'name': 'cosine',\n",
    "    'user_based': False\n",
    "}\n",
    "knn = KNNWithMeans(sim_options = sim_options, k = 50)\n",
    "knnbasic = KNNBasic(sim_options = sim_options, k = 50)"
   ]
  },
  {
   "cell_type": "code",
   "execution_count": 0,
   "metadata": {
    "colab": {},
    "colab_type": "code",
    "id": "cmgq7jJpmCeQ"
   },
   "outputs": [],
   "source": [
    "knnmeans_cv = cross_validate(knn, data, cv=5, n_jobs=5, verbose=False)\n",
    "knnbasic_cv = cross_validate(knnbasic, data, cv=5, n_jobs=5, verbose=False)\n",
    "svd_cv = cross_validate(SVD(), data, cv=5, n_jobs=5, verbose=False)"
   ]
  },
  {
   "cell_type": "code",
   "execution_count": 0,
   "metadata": {
    "colab": {
     "base_uri": "https://localhost:8080/",
     "height": 101
    },
    "colab_type": "code",
    "executionInfo": {
     "elapsed": 347,
     "status": "ok",
     "timestamp": 1583798060419,
     "user": {
      "displayName": "Shu Xu",
      "photoUrl": "",
      "userId": "10614678628647528947"
     },
     "user_tz": 240
    },
    "id": "fPHsIFXNpuSP",
    "outputId": "13892578-e547-45c8-8630-0884ee58ceeb"
   },
   "outputs": [
    {
     "name": "stdout",
     "output_type": "stream",
     "text": [
      "Algorithm\t RMSE\t\t MAE\n",
      "\n",
      "KNN Basic \t 1.0244 \t 0.81\n",
      "KNN Means \t 0.9412 \t 0.7398\n",
      "SVD \t\t 0.9384 \t 0.7401\n"
     ]
    }
   ],
   "source": [
    "print('Algorithm\\t RMSE\\t\\t MAE')\n",
    "print()\n",
    "print('KNN Basic', '\\t', round(knnbasic_cv['test_rmse'].mean(), 4), '\\t', round(knnbasic_cv['test_mae'].mean(), 4))\n",
    "print('KNN Means', '\\t', round(knnmeans_cv['test_rmse'].mean(), 4), '\\t', round(knnmeans_cv['test_mae'].mean(), 4))\n",
    "print('SVD', '\\t\\t', round(svd_cv['test_rmse'].mean(), 4), '\\t', round(svd_cv['test_mae'].mean(), 4))"
   ]
  },
  {
   "cell_type": "code",
   "execution_count": 0,
   "metadata": {
    "colab": {
     "base_uri": "https://localhost:8080/",
     "height": 350
    },
    "colab_type": "code",
    "executionInfo": {
     "elapsed": 513,
     "status": "ok",
     "timestamp": 1583798109864,
     "user": {
      "displayName": "Shu Xu",
      "photoUrl": "",
      "userId": "10614678628647528947"
     },
     "user_tz": 240
    },
    "id": "Z2qyKReLre39",
    "outputId": "4418ddf6-5a04-4490-affa-29c0cae29880"
   },
   "outputs": [
    {
     "data": {
      "image/png": "[encoded data removed]",
      "text/plain": [
       "<Figure size 720x360 with 1 Axes>"
      ]
     },
     "metadata": {
      "tags": []
     },
     "output_type": "display_data"
    }
   ],
   "source": [
    "plt.figure(figsize=(10,5))\n",
    "plt.plot(range(1,6),knnbasic_cv[\"test_rmse\"], 'b', label = 'KNNbasic')\n",
    "plt.plot(range(1,6),knnmeans_cv[\"test_rmse\"], 'r', label = 'KNNWithMeans')\n",
    "plt.plot(range(1,6),svd_cv[\"test_rmse\"], 'g', label = 'SVD')\n",
    "plt.legend()\n",
    "plt.xlabel(\"Kth Folder\")\n",
    "plt.ylabel(\"RMSE value\")\n",
    "plt.title(\"different recommender system model RMSE comparison\");\n",
    "plt.show()"
   ]
  },
  {
   "cell_type": "code",
   "execution_count": 0,
   "metadata": {
    "colab": {},
    "colab_type": "code",
    "id": "LYbCbNoFzHFj"
   },
   "outputs": [],
   "source": []
  }
 ],
 "metadata": {
  "colab": {
   "collapsed_sections": [],
   "name": "Recommender System Group 19.ipynb",
   "provenance": []
  },
  "kernelspec": {
   "display_name": "Python 3 (ipykernel)",
   "language": "python",
   "name": "python3"
  },
  "language_info": {
   "codemirror_mode": {
    "name": "ipython",
    "version": 3
   },
   "file_extension": ".py",
   "mimetype": "text/x-python",
   "name": "python",
   "nbconvert_exporter": "python",
   "pygments_lexer": "ipython3",
   "version": "3.9.7"
  }
 },
 "nbformat": 4,
 "nbformat_minor": 1
}
