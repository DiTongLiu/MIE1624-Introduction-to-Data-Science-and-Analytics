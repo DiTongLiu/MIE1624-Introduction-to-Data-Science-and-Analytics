{
 "cells": [
  {
   "cell_type": "code",
   "execution_count": 1,
   "metadata": {},
   "outputs": [],
   "source": [
    "# !pip install xgboost"
   ]
  },
  {
   "cell_type": "code",
   "execution_count": 2,
   "metadata": {},
   "outputs": [],
   "source": [
    "import pandas as pd\n",
    "import numpy as np\n",
    "import re\n",
    "import nltk\n",
    "from nltk.corpus import stopwords\n",
    "from nltk.tokenize import word_tokenize\n",
    "import warnings\n",
    "warnings.filterwarnings(\"ignore\")\n",
    "import matplotlib.pyplot as plt\n",
    "from sklearn.feature_extraction.text import CountVectorizer\n",
    "from sklearn.feature_extraction.text import TfidfVectorizer\n",
    "from sklearn.model_selection import train_test_split\n",
    "from sklearn.metrics import accuracy_score\n",
    "from sklearn import preprocessing\n",
    "from sklearn.linear_model import LogisticRegression\n",
    "from sklearn.neighbors import KNeighborsClassifier\n",
    "from sklearn.naive_bayes import MultinomialNB\n",
    "from sklearn.svm import LinearSVC\n",
    "from sklearn.tree import DecisionTreeClassifier\n",
    "from sklearn.ensemble import RandomForestClassifier\n",
    "from xgboost import XGBClassifier\n",
    "from sklearn.model_selection import cross_val_score"
   ]
  },
  {
   "cell_type": "code",
   "execution_count": 3,
   "metadata": {},
   "outputs": [],
   "source": [
    "# nltk.download('stopwords')\n",
    "# nltk.download('punkt')"
   ]
  },
  {
   "cell_type": "markdown",
   "metadata": {},
   "source": [
    "### Data Cleaning"
   ]
  },
  {
   "cell_type": "code",
   "execution_count": 4,
   "metadata": {},
   "outputs": [],
   "source": [
    "# function for data cleaning of tweets\n",
    "\n",
    "# function takes as input a list of tweets and outputs a list of the cleaned version of the tweets\n",
    "def dataCleaning(tweetList):\n",
    "    \n",
    "    # remove URLs\n",
    "    tweetList1 = [re.sub(r\"http\\S+\", \"\", tw) for tw in tweetList]\n",
    "    \n",
    "    # remove all HTML tags and replace all HTML character codes with ASCII\n",
    "    tweetList1 = [tw.encode('ascii', 'ignore').decode('ascii') for tw in tweetList1]\n",
    "    \n",
    "    # remove retweet segment from retweets\n",
    "    for i in range(len(tweetList1)):\n",
    "        if tweetList1[i][:2] == 'RT':\n",
    "            tweetList1[i] = tweetList1[i].split(' ', 2)[2]\n",
    "            \n",
    "    # remove user mentions (@)\n",
    "    tweetList1 = [re.sub(r\"(?:\\@|https?\\://)\\S+\", \"\", tw) for tw in tweetList1]\n",
    "    \n",
    "    # remove all numbers and other special characters\n",
    "    regex = re.compile('[^a-zA-Z ]')\n",
    "    tweetList1 = [regex.sub('', tw) for tw in tweetList1]\n",
    "    \n",
    "    # change all characters to lowercase\n",
    "    tweetList1 = [tw.lower() for tw in tweetList1]\n",
    "    \n",
    "    # remove stop words using nltk stopwords library\n",
    "    stop_words = set(stopwords.words('english'))\n",
    "    for i in range(len(tweetList1)):\n",
    "        example_sent = tweetList1[i]\n",
    "        word_tokens = word_tokenize(example_sent)\n",
    "        filtered_sentence = [w for w in word_tokens if not w in stop_words]\n",
    "        filtered_sentence = []\n",
    "        for w in word_tokens:\n",
    "            if w not in stop_words:\n",
    "                filtered_sentence.append(w)\n",
    "        tweetList1[i] = ' '.join(filtered_sentence)\n",
    "        \n",
    "    return(tweetList1)"
   ]
  },
  {
   "cell_type": "code",
   "execution_count": 5,
   "metadata": {},
   "outputs": [],
   "source": [
    "# data cleaning for sentiment_analysis\n",
    "\n",
    "df1 = pd.read_csv('sentiment_analysis.csv')\n",
    "df1 = df1.drop(columns=['ID']) # drop tweet ID\n",
    "\n",
    "tweetList_SA = dataCleaning(df1['text'].tolist())"
   ]
  },
  {
   "cell_type": "code",
   "execution_count": 6,
   "metadata": {},
   "outputs": [
    {
     "data": {
      "text/html": [
       "<div>\n",
       "<style scoped>\n",
       "    .dataframe tbody tr th:only-of-type {\n",
       "        vertical-align: middle;\n",
       "    }\n",
       "\n",
       "    .dataframe tbody tr th {\n",
       "        vertical-align: top;\n",
       "    }\n",
       "\n",
       "    .dataframe thead th {\n",
       "        text-align: right;\n",
       "    }\n",
       "</style>\n",
       "<table border=\"1\" class=\"dataframe\">\n",
       "  <thead>\n",
       "    <tr style=\"text-align: right;\">\n",
       "      <th></th>\n",
       "      <th>text</th>\n",
       "      <th>clean text</th>\n",
       "    </tr>\n",
       "  </thead>\n",
       "  <tbody>\n",
       "    <tr>\n",
       "      <th>0</th>\n",
       "      <td>Josh Jenkins is looking forward to TAB Breeder...</td>\n",
       "      <td>josh jenkins looking forward tab breeders crow...</td>\n",
       "    </tr>\n",
       "    <tr>\n",
       "      <th>1</th>\n",
       "      <td>RT @MianUsmanJaved: Congratulations Pakistan o...</td>\n",
       "      <td>congratulations pakistan becoming notestteam w...</td>\n",
       "    </tr>\n",
       "    <tr>\n",
       "      <th>2</th>\n",
       "      <td>RT @PEPalerts: This September, @YESmag is taki...</td>\n",
       "      <td>september taking maine mendozas surprise thank...</td>\n",
       "    </tr>\n",
       "    <tr>\n",
       "      <th>3</th>\n",
       "      <td>RT @david_gaibis: Newly painted walls, thanks ...</td>\n",
       "      <td>newly painted walls thanks million custodial p...</td>\n",
       "    </tr>\n",
       "    <tr>\n",
       "      <th>4</th>\n",
       "      <td>RT @CedricFeschotte: Excited to announce: as o...</td>\n",
       "      <td>excited announce july feschotte lab relocating...</td>\n",
       "    </tr>\n",
       "    <tr>\n",
       "      <th>...</th>\n",
       "      <td>...</td>\n",
       "      <td>...</td>\n",
       "    </tr>\n",
       "    <tr>\n",
       "      <th>550386</th>\n",
       "      <td>@goddesses_o I can't stop watching her...mm. M...</td>\n",
       "      <td>cant stop watching hermm</td>\n",
       "    </tr>\n",
       "    <tr>\n",
       "      <th>550387</th>\n",
       "      <td>Poor old Tom Odell doesn't look like he would ...</td>\n",
       "      <td>poor old tom odell doesnt look like would know...</td>\n",
       "    </tr>\n",
       "    <tr>\n",
       "      <th>550388</th>\n",
       "      <td>#antsmasher I smashed  7 ants in this awesome ...</td>\n",
       "      <td>antsmasher smashed ants awesome gamehjfjfi</td>\n",
       "    </tr>\n",
       "    <tr>\n",
       "      <th>550389</th>\n",
       "      <td>@LizHudston @KymWyllie @Evasmiless @meanBok @l...</td>\n",
       "      <td>morning girls wonderful friday</td>\n",
       "    </tr>\n",
       "    <tr>\n",
       "      <th>550390</th>\n",
       "      <td>Bixbeat Mixtape Vol.2 is here with great artis...</td>\n",
       "      <td>bixbeat mixtape vol great artiste join movement</td>\n",
       "    </tr>\n",
       "  </tbody>\n",
       "</table>\n",
       "<p>550391 rows × 2 columns</p>\n",
       "</div>"
      ],
      "text/plain": [
       "                                                     text  \\\n",
       "0       Josh Jenkins is looking forward to TAB Breeder...   \n",
       "1       RT @MianUsmanJaved: Congratulations Pakistan o...   \n",
       "2       RT @PEPalerts: This September, @YESmag is taki...   \n",
       "3       RT @david_gaibis: Newly painted walls, thanks ...   \n",
       "4       RT @CedricFeschotte: Excited to announce: as o...   \n",
       "...                                                   ...   \n",
       "550386  @goddesses_o I can't stop watching her...mm. M...   \n",
       "550387  Poor old Tom Odell doesn't look like he would ...   \n",
       "550388  #antsmasher I smashed  7 ants in this awesome ...   \n",
       "550389  @LizHudston @KymWyllie @Evasmiless @meanBok @l...   \n",
       "550390  Bixbeat Mixtape Vol.2 is here with great artis...   \n",
       "\n",
       "                                               clean text  \n",
       "0       josh jenkins looking forward tab breeders crow...  \n",
       "1       congratulations pakistan becoming notestteam w...  \n",
       "2       september taking maine mendozas surprise thank...  \n",
       "3       newly painted walls thanks million custodial p...  \n",
       "4       excited announce july feschotte lab relocating...  \n",
       "...                                                   ...  \n",
       "550386                           cant stop watching hermm  \n",
       "550387  poor old tom odell doesnt look like would know...  \n",
       "550388         antsmasher smashed ants awesome gamehjfjfi  \n",
       "550389                     morning girls wonderful friday  \n",
       "550390    bixbeat mixtape vol great artiste join movement  \n",
       "\n",
       "[550391 rows x 2 columns]"
      ]
     },
     "execution_count": 6,
     "metadata": {},
     "output_type": "execute_result"
    }
   ],
   "source": [
    "df1['clean text'] = tweetList_SA\n",
    "df1[['text', 'clean text']]"
   ]
  },
  {
   "cell_type": "code",
   "execution_count": 7,
   "metadata": {},
   "outputs": [],
   "source": [
    "# data cleaning for Canadian_elections_2019\n",
    "\n",
    "df2 = pd.read_csv('Canadian_elections_2019.csv')\n",
    "tweetList_elections = df2['text'].tolist()\n",
    "tweetList_elections = [tw[1:] for tw in tweetList_elections]\n",
    "\n",
    "tweetList_elections = dataCleaning(tweetList_elections)"
   ]
  },
  {
   "cell_type": "code",
   "execution_count": 8,
   "metadata": {},
   "outputs": [
    {
     "data": {
      "text/html": [
       "<div>\n",
       "<style scoped>\n",
       "    .dataframe tbody tr th:only-of-type {\n",
       "        vertical-align: middle;\n",
       "    }\n",
       "\n",
       "    .dataframe tbody tr th {\n",
       "        vertical-align: top;\n",
       "    }\n",
       "\n",
       "    .dataframe thead th {\n",
       "        text-align: right;\n",
       "    }\n",
       "</style>\n",
       "<table border=\"1\" class=\"dataframe\">\n",
       "  <thead>\n",
       "    <tr style=\"text-align: right;\">\n",
       "      <th></th>\n",
       "      <th>text</th>\n",
       "      <th>clean text</th>\n",
       "    </tr>\n",
       "  </thead>\n",
       "  <tbody>\n",
       "    <tr>\n",
       "      <th>0</th>\n",
       "      <td>b\"@RosieBarton So instead of your suggestion, ...</td>\n",
       "      <td>instead suggestion agree canadian women trust ...</td>\n",
       "    </tr>\n",
       "    <tr>\n",
       "      <th>1</th>\n",
       "      <td>b\"#AllWomanSpacewalk it's real!\\n@Space_Statio...</td>\n",
       "      <td>allwomanspacewalk realn netobicokenorth cityof...</td>\n",
       "    </tr>\n",
       "    <tr>\n",
       "      <th>2</th>\n",
       "      <td>b\"#Brantford It's going to cost YOU $94 BILLIO...</td>\n",
       "      <td>brantford going cost billion next years ask ju...</td>\n",
       "    </tr>\n",
       "    <tr>\n",
       "      <th>3</th>\n",
       "      <td>b\"#Canada #CanadaElection2019 #CanadaVotes \\n#...</td>\n",
       "      <td>canada canadaelection canadavotes nelxn nncant...</td>\n",
       "    </tr>\n",
       "    <tr>\n",
       "      <th>4</th>\n",
       "      <td>b\"#Canada #taxpayers are sick &amp;amp; tired of h...</td>\n",
       "      <td>canada taxpayers sick amp tired hard earned do...</td>\n",
       "    </tr>\n",
       "    <tr>\n",
       "      <th>...</th>\n",
       "      <td>...</td>\n",
       "      <td>...</td>\n",
       "    </tr>\n",
       "    <tr>\n",
       "      <th>2128</th>\n",
       "      <td>b'You know he was doing a good enough job smea...</td>\n",
       "      <td>know good enough job smearing campaign right c...</td>\n",
       "    </tr>\n",
       "    <tr>\n",
       "      <th>2129</th>\n",
       "      <td>b'You missed the comment. Deflecting the issue...</td>\n",
       "      <td>missed comment deflecting issue answer best re...</td>\n",
       "    </tr>\n",
       "    <tr>\n",
       "      <th>2130</th>\n",
       "      <td>b'Your daily reminder:\\n@theJagmeetSingh endor...</td>\n",
       "      <td>daily remindern endorses strategic votingnelxn...</td>\n",
       "    </tr>\n",
       "    <tr>\n",
       "      <th>2131</th>\n",
       "      <td>b'Yup...not going to reopen the abortion debat...</td>\n",
       "      <td>yupnot going reopen abortion debatexfxfxxfnelx...</td>\n",
       "    </tr>\n",
       "    <tr>\n",
       "      <th>2132</th>\n",
       "      <td>b'Zing.\\n#NDP #elxn43 https://t.co/xo6Qe4jV3p'</td>\n",
       "      <td>zingnndp elxn</td>\n",
       "    </tr>\n",
       "  </tbody>\n",
       "</table>\n",
       "<p>2133 rows × 2 columns</p>\n",
       "</div>"
      ],
      "text/plain": [
       "                                                   text  \\\n",
       "0     b\"@RosieBarton So instead of your suggestion, ...   \n",
       "1     b\"#AllWomanSpacewalk it's real!\\n@Space_Statio...   \n",
       "2     b\"#Brantford It's going to cost YOU $94 BILLIO...   \n",
       "3     b\"#Canada #CanadaElection2019 #CanadaVotes \\n#...   \n",
       "4     b\"#Canada #taxpayers are sick &amp; tired of h...   \n",
       "...                                                 ...   \n",
       "2128  b'You know he was doing a good enough job smea...   \n",
       "2129  b'You missed the comment. Deflecting the issue...   \n",
       "2130  b'Your daily reminder:\\n@theJagmeetSingh endor...   \n",
       "2131  b'Yup...not going to reopen the abortion debat...   \n",
       "2132     b'Zing.\\n#NDP #elxn43 https://t.co/xo6Qe4jV3p'   \n",
       "\n",
       "                                             clean text  \n",
       "0     instead suggestion agree canadian women trust ...  \n",
       "1     allwomanspacewalk realn netobicokenorth cityof...  \n",
       "2     brantford going cost billion next years ask ju...  \n",
       "3     canada canadaelection canadavotes nelxn nncant...  \n",
       "4     canada taxpayers sick amp tired hard earned do...  \n",
       "...                                                 ...  \n",
       "2128  know good enough job smearing campaign right c...  \n",
       "2129  missed comment deflecting issue answer best re...  \n",
       "2130  daily remindern endorses strategic votingnelxn...  \n",
       "2131  yupnot going reopen abortion debatexfxfxxfnelx...  \n",
       "2132                                      zingnndp elxn  \n",
       "\n",
       "[2133 rows x 2 columns]"
      ]
     },
     "execution_count": 8,
     "metadata": {},
     "output_type": "execute_result"
    }
   ],
   "source": [
    "df2['clean text'] = tweetList_elections\n",
    "df2[['text', 'clean text']]"
   ]
  },
  {
   "cell_type": "markdown",
   "metadata": {},
   "source": [
    "### Exploratory Analysis"
   ]
  },
  {
   "cell_type": "code",
   "execution_count": 9,
   "metadata": {},
   "outputs": [],
   "source": [
    "# function to determine the political party of tweets\n",
    "\n",
    "# function takes as input a list of n tweets\n",
    "# outputs a list of size n with the political party for each tweet (liberal, conservative, NDP, mutual, or none)\n",
    "# if a tweet is predicted to belong to more than one political party, the value will be \"mutual\"\n",
    "# if a tweet is predicted to have no political affiliation, the value will be \"none\"\n",
    "# the function works by checking if a tweet contains at least one word in a list of common words for each political party\n",
    "def politicalParty(tweetList):\n",
    "    \n",
    "    # list of common words for Liberal Party\n",
    "    liberal_words = ['liberal', 'lpc', 'justin', 'trudeau']\n",
    "    # list of common words for Conservative Party\n",
    "    conservative_words = ['conservative', 'tory', 'tories', 'cpc', 'andrew', 'scheer', ]\n",
    "    # list of common words for New Democratic Party\n",
    "    ndp_words = ['new democratic party', 'ndp', 'jagmeet', 'singh']\n",
    "\n",
    "    political_party = []\n",
    "\n",
    "    for tw in tweetList:\n",
    "        # check for affiliation with liberal party\n",
    "        if any(s in tw for s in liberal_words) and not(any(s in tw for s in conservative_words)) and not(any(s in tw for s in ndp_words)):\n",
    "            political_party.append('Liberal')\n",
    "        # check for affiliation with conservative party\n",
    "        elif not(any(s in tw for s in liberal_words)) and any(s in tw for s in conservative_words) and not(any(s in tw for s in ndp_words)):\n",
    "            political_party.append('Conservative')\n",
    "        # check for affiliation with new democratic party\n",
    "        elif not(any(s in tw for s in liberal_words)) and not(any(s in tw for s in conservative_words)) and any(s in tw for s in ndp_words):\n",
    "            political_party.append('NDP')\n",
    "        # if no affiliation with any political party\n",
    "        elif not(any(s in tw for s in liberal_words)) and not(any(s in tw for s in conservative_words)) and not(any(s in tw for s in ndp_words)):\n",
    "            political_party.append('None')\n",
    "        # if affiliated with more than one political party\n",
    "        else:\n",
    "            political_party.append('Mutual')\n",
    "            \n",
    "    return(political_party)"
   ]
  },
  {
   "cell_type": "code",
   "execution_count": 10,
   "metadata": {},
   "outputs": [
    {
     "data": {
      "text/html": [
       "<div>\n",
       "<style scoped>\n",
       "    .dataframe tbody tr th:only-of-type {\n",
       "        vertical-align: middle;\n",
       "    }\n",
       "\n",
       "    .dataframe tbody tr th {\n",
       "        vertical-align: top;\n",
       "    }\n",
       "\n",
       "    .dataframe thead th {\n",
       "        text-align: right;\n",
       "    }\n",
       "</style>\n",
       "<table border=\"1\" class=\"dataframe\">\n",
       "  <thead>\n",
       "    <tr style=\"text-align: right;\">\n",
       "      <th></th>\n",
       "      <th>Clean Text</th>\n",
       "      <th>Political Party</th>\n",
       "    </tr>\n",
       "  </thead>\n",
       "  <tbody>\n",
       "    <tr>\n",
       "      <th>0</th>\n",
       "      <td>instead suggestion agree canadian women trust ...</td>\n",
       "      <td>Conservative</td>\n",
       "    </tr>\n",
       "    <tr>\n",
       "      <th>1</th>\n",
       "      <td>allwomanspacewalk realn netobicokenorth cityof...</td>\n",
       "      <td>None</td>\n",
       "    </tr>\n",
       "    <tr>\n",
       "      <th>2</th>\n",
       "      <td>brantford going cost billion next years ask ju...</td>\n",
       "      <td>Liberal</td>\n",
       "    </tr>\n",
       "    <tr>\n",
       "      <th>3</th>\n",
       "      <td>canada canadaelection canadavotes nelxn nncant...</td>\n",
       "      <td>None</td>\n",
       "    </tr>\n",
       "    <tr>\n",
       "      <th>4</th>\n",
       "      <td>canada taxpayers sick amp tired hard earned do...</td>\n",
       "      <td>Liberal</td>\n",
       "    </tr>\n",
       "    <tr>\n",
       "      <th>...</th>\n",
       "      <td>...</td>\n",
       "      <td>...</td>\n",
       "    </tr>\n",
       "    <tr>\n",
       "      <th>2128</th>\n",
       "      <td>know good enough job smearing campaign right c...</td>\n",
       "      <td>None</td>\n",
       "    </tr>\n",
       "    <tr>\n",
       "      <th>2129</th>\n",
       "      <td>missed comment deflecting issue answer best re...</td>\n",
       "      <td>None</td>\n",
       "    </tr>\n",
       "    <tr>\n",
       "      <th>2130</th>\n",
       "      <td>daily remindern endorses strategic votingnelxn...</td>\n",
       "      <td>Mutual</td>\n",
       "    </tr>\n",
       "    <tr>\n",
       "      <th>2131</th>\n",
       "      <td>yupnot going reopen abortion debatexfxfxxfnelx...</td>\n",
       "      <td>Conservative</td>\n",
       "    </tr>\n",
       "    <tr>\n",
       "      <th>2132</th>\n",
       "      <td>zingnndp elxn</td>\n",
       "      <td>NDP</td>\n",
       "    </tr>\n",
       "  </tbody>\n",
       "</table>\n",
       "<p>2133 rows × 2 columns</p>\n",
       "</div>"
      ],
      "text/plain": [
       "                                             Clean Text Political Party\n",
       "0     instead suggestion agree canadian women trust ...    Conservative\n",
       "1     allwomanspacewalk realn netobicokenorth cityof...            None\n",
       "2     brantford going cost billion next years ask ju...         Liberal\n",
       "3     canada canadaelection canadavotes nelxn nncant...            None\n",
       "4     canada taxpayers sick amp tired hard earned do...         Liberal\n",
       "...                                                 ...             ...\n",
       "2128  know good enough job smearing campaign right c...            None\n",
       "2129  missed comment deflecting issue answer best re...            None\n",
       "2130  daily remindern endorses strategic votingnelxn...          Mutual\n",
       "2131  yupnot going reopen abortion debatexfxfxxfnelx...    Conservative\n",
       "2132                                      zingnndp elxn             NDP\n",
       "\n",
       "[2133 rows x 2 columns]"
      ]
     },
     "execution_count": 10,
     "metadata": {},
     "output_type": "execute_result"
    }
   ],
   "source": [
    "political_party_list = politicalParty(tweetList_elections)\n",
    "    \n",
    "political_party_df = pd.DataFrame(\n",
    "    {'Clean Text': tweetList_elections, 'Political Party': political_party_list})\n",
    "\n",
    "political_party_df"
   ]
  },
  {
   "cell_type": "code",
   "execution_count": 11,
   "metadata": {},
   "outputs": [
    {
     "data": {
      "text/plain": [
       "Political Party\n",
       "Conservative     438\n",
       "Liberal          256\n",
       "Mutual           221\n",
       "NDP              121\n",
       "None            1097\n",
       "Name: Clean Text, dtype: int64"
      ]
     },
     "execution_count": 11,
     "metadata": {},
     "output_type": "execute_result"
    }
   ],
   "source": [
    "# number of tweets for each political party\n",
    "political_party_count = political_party_df.groupby(['Political Party']).count()['Clean Text']\n",
    "political_party_count"
   ]
  },
  {
   "cell_type": "markdown",
   "metadata": {},
   "source": [
    "Q: What can you say about the distribution of the political affiliations of the tweets?\n",
    "\n",
    "Answer:\n",
    "Out of the three political parties, the Conservative Party is affiliated with the largest number of tweets, followed by the Liberal Party. The New Democratic Party is affiliated with the least amount of tweets out of the three parties."
   ]
  },
  {
   "cell_type": "code",
   "execution_count": 12,
   "metadata": {},
   "outputs": [
    {
     "data": {
      "image/png": "[encoded data removed]",
      "text/plain": [
       "<Figure size 1080x540 with 1 Axes>"
      ]
     },
     "metadata": {
      "needs_background": "light"
     },
     "output_type": "display_data"
    }
   ],
   "source": [
    "# bar plot of the distribution of tweet length in sentiment_analysis\n",
    "\n",
    "df1_length = df1[['clean text']]\n",
    "df1_length['tweet length'] = df1_length['clean text'].apply(len)\n",
    "length_count = df1_length.groupby(['tweet length']).count().reset_index()\n",
    "length_count = length_count.rename(columns={\"clean text\": \"count\"})\n",
    "\n",
    "ax = length_count.plot.bar(x='tweet length', y='count', rot=0, figsize=(15,7.5), legend=False)\n",
    "ax.set_xticks(ax.get_xticks()[::4])\n",
    "plt.title('Distribution of Tweet Length of Tweets in sentiment_analysis')\n",
    "plt.xlabel('Tweet length', fontsize=12)\n",
    "plt.ylabel('Number of tweets', fontsize=12)\n",
    "plt.show()"
   ]
  },
  {
   "cell_type": "code",
   "execution_count": 13,
   "metadata": {
    "scrolled": true
   },
   "outputs": [
    {
     "data": {
      "image/png": "[encoded data removed]",
      "text/plain": [
       "<Figure size 864x432 with 1 Axes>"
      ]
     },
     "metadata": {
      "needs_background": "light"
     },
     "output_type": "display_data"
    }
   ],
   "source": [
    "# bar plot of the distribution of political affiliation of tweets in Canadian_elections_2019\n",
    "\n",
    "political_distribution = political_party_df.groupby(['Political Party']).count().reset_index()\n",
    "political_distribution = political_distribution.rename(columns={\"Clean Text\": \"count\"})\n",
    "x = range(5)\n",
    "x_labels = political_distribution['Political Party'].tolist()\n",
    "y = political_distribution['count'].tolist()\n",
    "\n",
    "plt.figure(figsize=(12,6))\n",
    "plt.bar(x, y, width=0.25)\n",
    "plt.title('Distribution of Political Affiliation of Tweets in Canadian_elections_2019')\n",
    "plt.xticks(x, x_labels)\n",
    "plt.xlabel('Political party affiliation', fontsize=12)\n",
    "plt.ylabel('Number of tweets', fontsize=12)\n",
    "plt.show()"
   ]
  },
  {
   "cell_type": "markdown",
   "metadata": {},
   "source": [
    "### Model Preparation"
   ]
  },
  {
   "cell_type": "code",
   "execution_count": 14,
   "metadata": {},
   "outputs": [],
   "source": [
    "# function to convert tweets to bag of words features\n",
    "# function takes a list of cleaned tweets as input\n",
    "# function outputs the sparse matrix containing the extracted numerical features of the tweets\n",
    "# max features is set to 2000 to speed up runtime\n",
    "def bagOfWords(corpus):\n",
    "    \n",
    "    vectorizer = CountVectorizer(max_features=2000)\n",
    "    X = vectorizer.fit_transform(corpus)\n",
    "    \n",
    "    return X\n",
    "\n",
    "# function to convert tweets to TF-IDF features\n",
    "# function takes a list of cleaned tweets as input\n",
    "# function outputs the sparse matrix containing the extracted numerical features of the tweets\n",
    "# max features is set to 2000 to speed up runtime\n",
    "def tf_idf(corpus):\n",
    "    \n",
    "    vectorizer = TfidfVectorizer(max_features=2000)\n",
    "    X = vectorizer.fit_transform(corpus)\n",
    "    \n",
    "    return X"
   ]
  },
  {
   "cell_type": "code",
   "execution_count": 15,
   "metadata": {},
   "outputs": [],
   "source": [
    "# functions of classification algorithms\n",
    "# all functions takes as input the training and test sets of features array and target, and outputs the model accuracy\n",
    "\n",
    "# function for logistic regression using SKLearn\n",
    "# C (inverse of regularization strength) can be set as an optional parameter\n",
    "def logRegression(X_train, X_test, y_train, y_test, C=1):\n",
    "    \n",
    "    model = LogisticRegression(C=C)\n",
    "    model.fit(X_train,y_train)\n",
    "    predictions = model.predict(X_test)\n",
    "    score = accuracy_score(y_test,predictions)\n",
    "    \n",
    "    return score\n",
    "\n",
    "# function for k-nearest neighbors using SKLearn\n",
    "# n_neighbors (number of neighbors) can be set as an optional parameter\n",
    "def kNN(X_train, X_test, y_train, y_test, n_neighbors=5):\n",
    "    \n",
    "    model = KNeighborsClassifier(n_neighbors=n_neighbors)\n",
    "    model.fit(X_train,y_train)\n",
    "    predictions = model.predict(X_test)\n",
    "    score = accuracy_score(y_test,predictions)\n",
    "    \n",
    "    return score\n",
    "\n",
    "# function for multinomial Naive Bayes using SKLearn\n",
    "# multinomial option was used since it generally performs the best in NLP classification problems\n",
    "# alpha (Laplace smoothing) can be set as an optional parameter\n",
    "def multinomialNaiveBayes(X_train, X_test, y_train, y_test, alpha=1):\n",
    "    \n",
    "    model = MultinomialNB(alpha=alpha)\n",
    "    model.fit(X_train,y_train)\n",
    "    predictions = model.predict(X_test)\n",
    "    score = accuracy_score(y_test,predictions)\n",
    "    \n",
    "    return score\n",
    "\n",
    "# function for linear support-vector machine using SKLearn\n",
    "# linear option was used for faster convergence\n",
    "# alpha (Laplace smoothing) can be set as an optional parameter\n",
    "def linearSVM(X_train, X_test, y_train, y_test, C=1):\n",
    "    \n",
    "    model = LinearSVC(C=C)\n",
    "    model.fit(X_train,y_train)\n",
    "    predictions = model.predict(X_test)\n",
    "    score = accuracy_score(y_test,predictions)\n",
    "    \n",
    "    return score\n",
    "\n",
    "# function for decision trees using SKLearn\n",
    "# max_depth (maximum depth of tree) can be set as an optional parameter\n",
    "def decisionTree(X_train, X_test, y_train, y_test, max_depth=None):\n",
    "    \n",
    "    model = DecisionTreeClassifier(max_depth=max_depth)\n",
    "    model.fit(X_train,y_train)\n",
    "    predictions = model.predict(X_test)\n",
    "    score = accuracy_score(y_test,predictions)\n",
    "    \n",
    "    return score\n",
    "\n",
    "# function for random forest using SKLearn\n",
    "# n_estimators (number of trees) can be set as an optional parameter\n",
    "def randomForest(X_train, X_test, y_train, y_test, n_estimators=10):\n",
    "    \n",
    "    model = RandomForestClassifier(n_estimators=n_estimators)\n",
    "    model.fit(X_train,y_train)\n",
    "    predictions = model.predict(X_test)\n",
    "    score = accuracy_score(y_test,predictions)\n",
    "    \n",
    "    return score\n",
    "\n",
    "# function for gradient boosted trees using XGBoost\n",
    "# learning_rate can be set as an optional parameter\n",
    "def GBT(X_train, X_test, y_train, y_test, learning_rate=0.3):\n",
    "    \n",
    "    model = XGBClassifier(learning_rate=learning_rate, verbosity = 0)\n",
    "    model.fit(X_train,y_train)\n",
    "    predictions = model.predict(X_test)\n",
    "    score = accuracy_score(y_test,predictions)\n",
    "    \n",
    "    return score"
   ]
  },
  {
   "cell_type": "code",
   "execution_count": 16,
   "metadata": {},
   "outputs": [],
   "source": [
    "# train-test split\n",
    "\n",
    "X_SA_bagOfWords = bagOfWords(tweetList_SA)\n",
    "X_SA_tf_idf = tf_idf(tweetList_SA)\n",
    "y_SA = df1['label']\n",
    "le = preprocessing.LabelEncoder()\n",
    "le.fit(df2['sentiment'])\n",
    "X_train_SA_bagOfWords, X_test_SA_bagOfWords, y_train_SA_bagOfWords, y_test_SA_bagOfWords = train_test_split(X_SA_bagOfWords, y_SA, random_state=1, test_size=0.3)\n",
    "X_train_SA_tf_idf, X_test_SA_tf_idf, y_train_SA_tf_idf, y_test_SA_tf_idf = train_test_split(X_SA_tf_idf, y_SA, random_state=1, test_size=0.3)\n",
    "X_elections_bagOfWords = bagOfWords(tweetList_elections)\n",
    "X_elections_tf_idf = tf_idf(tweetList_elections)\n",
    "y_elections_sentiment = pd.Series(le.transform(df2['sentiment']))"
   ]
  },
  {
   "cell_type": "markdown",
   "metadata": {},
   "source": [
    "### Model Implementation and Tuning"
   ]
  },
  {
   "cell_type": "code",
   "execution_count": 17,
   "metadata": {},
   "outputs": [],
   "source": [
    "# predicting sentiment in sentiment_analysis dataset\n",
    "# models were only run once, and the resulting model accuracy was then hard-coded\n",
    "# to re-run models, uncomment the code in this cell and comment out the code in the next cell\n",
    "\n",
    "# LR_bagOfWords = logRegression(X_train_SA_bagOfWords, X_test_SA_bagOfWords, y_train_SA_bagOfWords, y_test_SA_bagOfWords)\n",
    "# kNN_bagOfWords = kNN(X_train_SA_bagOfWords, X_test_SA_bagOfWords, y_train_SA_bagOfWords, y_test_SA_bagOfWords)\n",
    "# NB_bagOfWords = multinomialNaiveBayes(X_train_SA_bagOfWords, X_test_SA_bagOfWords, y_train_SA_bagOfWords, y_test_SA_bagOfWords)\n",
    "# SVM_bagOfWords = linearSVM(X_train_SA_bagOfWords, X_test_SA_bagOfWords, y_train_SA_bagOfWords, y_test_SA_bagOfWords)\n",
    "# DT_bagOfWords = decisionTree(X_train_SA_bagOfWords, X_test_SA_bagOfWords, y_train_SA_bagOfWords, y_test_SA_bagOfWords)\n",
    "# RF_bagOfWords = randomForest(X_train_SA_bagOfWords, X_test_SA_bagOfWords, y_train_SA_bagOfWords, y_test_SA_bagOfWords)\n",
    "# GBT_bagOfWords = GBT(X_train_SA_bagOfWords, X_test_SA_bagOfWords, y_train_SA_bagOfWords, y_test_SA_bagOfWords)\n",
    "\n",
    "# LR_tf_idf = logRegression(X_train_SA_tf_idf, X_test_SA_tf_idf, y_train_SA_tf_idf, y_test_SA_tf_idf)\n",
    "# kNN_tf_idf = kNN(X_train_SA_tf_idf, X_test_SA_tf_idf, y_train_SA_tf_idf, y_test_SA_tf_idf)\n",
    "# NB_tf_idf = multinomialNaiveBayes(X_train_SA_tf_idf, X_test_SA_tf_idf, y_train_SA_tf_idf, y_test_SA_tf_idf)\n",
    "# SVM_tf_idf = linearSVM(X_train_SA_tf_idf, X_test_SA_tf_idf, y_train_SA_tf_idf, y_test_SA_tf_idf)\n",
    "# DT_tf_idf = decisionTree(X_train_SA_tf_idf, X_test_SA_tf_idf, y_train_SA_tf_idf, y_test_SA_tf_idf)\n",
    "# RF_tf_idf = randomForest(X_train_SA_tf_idf, X_test_SA_tf_idf, y_train_SA_tf_idf, y_test_SA_tf_idf)\n",
    "# GBT_tf_idf = GBT(X_train_SA_tf_idf, X_test_SA_tf_idf, y_train_SA_tf_idf, y_test_SA_tf_idf)"
   ]
  },
  {
   "cell_type": "code",
   "execution_count": 18,
   "metadata": {},
   "outputs": [],
   "source": [
    "LR_bagOfWords, LR_tf_idf = 0.9525, 0.9522\n",
    "kNN_bagOfWords, kNN_tf_idf = 0.9194, 0.8478\n",
    "NB_bagOfWords, NB_tf_idf = 0.9259, 0.9556\n",
    "SVM_bagOfWords, SVM_tf_idf = 0.9517, 0.9523\n",
    "DT_bagOfWords, DT_tf_idf = 0.9322, 0.9344\n",
    "RF_bagOfWords, RF_tf_idf = 0.9435, 0.9462\n",
    "GBT_bagOfWords, GBT_tf_idf = 0.9246, 0.9233"
   ]
  },
  {
   "cell_type": "code",
   "execution_count": 19,
   "metadata": {},
   "outputs": [
    {
     "name": "stdout",
     "output_type": "stream",
     "text": [
      "Accuracy of models:\n"
     ]
    },
    {
     "data": {
      "text/html": [
       "<div>\n",
       "<style scoped>\n",
       "    .dataframe tbody tr th:only-of-type {\n",
       "        vertical-align: middle;\n",
       "    }\n",
       "\n",
       "    .dataframe tbody tr th {\n",
       "        vertical-align: top;\n",
       "    }\n",
       "\n",
       "    .dataframe thead th {\n",
       "        text-align: right;\n",
       "    }\n",
       "</style>\n",
       "<table border=\"1\" class=\"dataframe\">\n",
       "  <thead>\n",
       "    <tr style=\"text-align: right;\">\n",
       "      <th></th>\n",
       "      <th>Bag of words</th>\n",
       "      <th>TF-IDF</th>\n",
       "    </tr>\n",
       "  </thead>\n",
       "  <tbody>\n",
       "    <tr>\n",
       "      <th>Logistic regression</th>\n",
       "      <td>0.9525</td>\n",
       "      <td>0.9522</td>\n",
       "    </tr>\n",
       "    <tr>\n",
       "      <th>k-NN</th>\n",
       "      <td>0.9194</td>\n",
       "      <td>0.8478</td>\n",
       "    </tr>\n",
       "    <tr>\n",
       "      <th>Naive Bayes</th>\n",
       "      <td>0.9259</td>\n",
       "      <td>0.9556</td>\n",
       "    </tr>\n",
       "    <tr>\n",
       "      <th>SVM</th>\n",
       "      <td>0.9517</td>\n",
       "      <td>0.9523</td>\n",
       "    </tr>\n",
       "    <tr>\n",
       "      <th>Decision tree</th>\n",
       "      <td>0.9322</td>\n",
       "      <td>0.9344</td>\n",
       "    </tr>\n",
       "    <tr>\n",
       "      <th>Random forest</th>\n",
       "      <td>0.9435</td>\n",
       "      <td>0.9462</td>\n",
       "    </tr>\n",
       "    <tr>\n",
       "      <th>Gradient-boosted trees</th>\n",
       "      <td>0.9246</td>\n",
       "      <td>0.9233</td>\n",
       "    </tr>\n",
       "  </tbody>\n",
       "</table>\n",
       "</div>"
      ],
      "text/plain": [
       "                        Bag of words  TF-IDF\n",
       "Logistic regression           0.9525  0.9522\n",
       "k-NN                          0.9194  0.8478\n",
       "Naive Bayes                   0.9259  0.9556\n",
       "SVM                           0.9517  0.9523\n",
       "Decision tree                 0.9322  0.9344\n",
       "Random forest                 0.9435  0.9462\n",
       "Gradient-boosted trees        0.9246  0.9233"
      ]
     },
     "execution_count": 19,
     "metadata": {},
     "output_type": "execute_result"
    }
   ],
   "source": [
    "accuracy_array = [[LR_bagOfWords, LR_tf_idf], [kNN_bagOfWords, kNN_tf_idf], [NB_bagOfWords, NB_tf_idf],\n",
    "                   [SVM_bagOfWords, SVM_tf_idf], [DT_bagOfWords, DT_tf_idf], [RF_bagOfWords, RF_tf_idf],\n",
    "                  [GBT_bagOfWords, GBT_tf_idf]]\n",
    "\n",
    "df_accuracy = pd.DataFrame(accuracy_array, columns=['Bag of words', 'TF-IDF'],\n",
    "                           index=['Logistic regression', 'k-NN', 'Naive Bayes', 'SVM', 'Decision tree', 'Random forest',\n",
    "                                 'Gradient-boosted trees'])\n",
    "print('Accuracy of models:')\n",
    "df_accuracy"
   ]
  },
  {
   "cell_type": "code",
   "execution_count": 20,
   "metadata": {},
   "outputs": [
    {
     "name": "stdout",
     "output_type": "stream",
     "text": [
      "best model: Naive Bayes using TF-IDF features\n",
      "accuracy of best model: 95.56 %\n"
     ]
    }
   ],
   "source": [
    "print('best model:', df_accuracy.max(axis=1).idxmax(), 'using', df_accuracy.max().idxmax(), 'features')\n",
    "print('accuracy of best model:', df_accuracy.max().max()*100, '%')"
   ]
  },
  {
   "cell_type": "code",
   "execution_count": 21,
   "metadata": {},
   "outputs": [],
   "source": [
    "# predicting sentiment in Canadian_elections_2019 dataset with best model\n",
    "# multinomial Naive Bayes with TF-IDF features will be used since it had the best performance\n",
    "\n",
    "model = MultinomialNB(alpha=1)\n",
    "model.fit(X_train_SA_tf_idf, y_train_SA_tf_idf)\n",
    "predictions_NB = model.predict(X_elections_tf_idf)\n",
    "score_NB = accuracy_score(y_elections_sentiment,predictions_NB)"
   ]
  },
  {
   "cell_type": "code",
   "execution_count": 48,
   "metadata": {},
   "outputs": [
    {
     "name": "stdout",
     "output_type": "stream",
     "text": [
      "Accuracy of best model when used to predict sentiment in Canadian_elections_2019 dataset: 51.00796999531176 %\n"
     ]
    }
   ],
   "source": [
    "print('Accuracy of best model when used to predict sentiment in Canadian_elections_2019 dataset:', score_NB*100, '%')"
   ]
  },
  {
   "cell_type": "markdown",
   "metadata": {},
   "source": [
    "Q: How well do your predictions match the sentiment labelled in the Canadian elections data?\n",
    "\n",
    "Answer: The best model, multinomial Naive Bayes using TF-IDF features, only has an accuracy of 51% when used to predict sentiments in the elections dataset. This means that the model predicted the correct sentiment on just over half the tweets in the elections dataset. This same model has an accuracy of 95.25% when used to predict sentiment in sentiment_analysis dataset, meaning that there was a big drop in accuracy when the test set was switched from sentiment_analysis to the elections dataset."
   ]
  },
  {
   "cell_type": "code",
   "execution_count": 23,
   "metadata": {},
   "outputs": [
    {
     "data": {
      "image/png": "[encoded data removed]",
      "text/plain": [
       "<Figure size 864x576 with 1 Axes>"
      ]
     },
     "metadata": {
      "needs_background": "light"
     },
     "output_type": "display_data"
    }
   ],
   "source": [
    "# plot of the distribution of true and predicted tweet sentiment for different political parties\n",
    "\n",
    "elections_df = pd.DataFrame()\n",
    "elections_df['Political Party'] = political_party_df['Political Party']\n",
    "elections_df['Predicted sentiment'] = predictions_NB\n",
    "elections_df['True sentiment'] = le.transform(df2['sentiment'])\n",
    "\n",
    "conservative_df = elections_df.loc[elections_df['Political Party'] == 'Conservative']\n",
    "liberal_df = elections_df.loc[elections_df['Political Party'] == 'Liberal']\n",
    "ndp_df = elections_df.loc[elections_df['Political Party'] == 'NDP']\n",
    "party_sentiment_df = pd.DataFrame(columns=['Positive sentiment (predicted)','Negative sentiment (predicted)','Positive sentiment (true)','Negative sentiment (true)'])\n",
    "party_sentiment_df.loc['Conservative'] = [conservative_df['Predicted sentiment'].value_counts()[1],conservative_df['Predicted sentiment'].value_counts()[0],conservative_df['True sentiment'].value_counts()[1],conservative_df['True sentiment'].value_counts()[0]]\n",
    "party_sentiment_df.loc['Liberal'] = [liberal_df['Predicted sentiment'].value_counts()[1],liberal_df['Predicted sentiment'].value_counts()[0],liberal_df['True sentiment'].value_counts()[1],liberal_df['True sentiment'].value_counts()[0]]\n",
    "party_sentiment_df.loc['NDP'] = [ndp_df['Predicted sentiment'].value_counts()[1],ndp_df['Predicted sentiment'].value_counts()[0],ndp_df['True sentiment'].value_counts()[1],ndp_df['True sentiment'].value_counts()[0]]\n",
    "\n",
    "ax = party_sentiment_df.plot.bar(rot=0, figsize=(12,8))\n",
    "plt.title('Distribution of Predicted and True Tweet Sentiment of Different Political Parties', fontsize=12)\n",
    "ax.set_xlabel(\"Political party\", fontsize=12)\n",
    "ax.set_ylabel(\"Number of tweets\", fontsize=12)\n",
    "plt.show()"
   ]
  },
  {
   "cell_type": "markdown",
   "metadata": {},
   "source": [
    "Q: Discuss whether NLP analytics based on tweets is useful for political parties during election campaigns.\n",
    "\n",
    "Answer: I believe that natural language processing is very useful for political parties during election campaigns. First of all, political parties can use NLP to predict the public's overall sentiment of their political opponents (opposing parties). From this, the political party can get a general idea of where they stand in terms of the general public (e.g. if a party's sentiment is better than the sentiment of the opposition, it means that the party is likely to win the election). Political parties can also use NLP analytics obtained from tweets to make important election campaign decisions. For example, since twitter users can be traced by the geographical location (hometown) that they set in their profile, political parties can use these analytics to determine which regions/ geographical areas have an overall negative sentiment of the party. The political party can then decide to invest more time and resources to hold additional campaigns in these regions to try and improve this sentiment. This is especially important in the \"swing states\" during US elections, since these states are often very hard to predict."
   ]
  },
  {
   "cell_type": "code",
   "execution_count": 39,
   "metadata": {},
   "outputs": [
    {
     "name": "stdout",
     "output_type": "stream",
     "text": [
      "logistic regression:\n",
      "C = 0.01 , accuracy: 36.22 %\n",
      "C = 0.1 , accuracy: 37.64 %\n",
      "C = 1 , accuracy: 45.89 %\n",
      "C = 1000 , accuracy: 51.15 %\n",
      "C = 10000 , accuracy: 50.72 %\n"
     ]
    }
   ],
   "source": [
    "# predicting the reason for negative tweets in Canadian_elections_2019 dataset\n",
    "\n",
    "# I chose to use 3 classification algorithms: logistic regression, multinomial Naive Bayes, and gradient-boosted trees\n",
    "# I chose to use TF-IDF for the input features\n",
    "# hyperparameter tuning was done with 5-fold cross validation\n",
    "\n",
    "df2_negative = df2.assign()\n",
    "df2_negative.drop(df2_negative.loc[df2_negative['sentiment']=='positive'].index, inplace=True)\n",
    "list_buffer = df2_negative['text'].tolist()\n",
    "list_buffer = [tw[1:] for tw in list_buffer]\n",
    "list_buffer = dataCleaning(list_buffer)\n",
    "X_elections_tf_idf_negative = tf_idf(list_buffer)\n",
    "le2 = preprocessing.LabelEncoder()\n",
    "le2.fit(df2_negative['negative_reason'])\n",
    "y_elections_negative = pd.Series(le2.transform(df2_negative['negative_reason']))\n",
    "X_train_elections_tf_idf_negative, X_test_elections_tf_idf_negative, y_train_elections_tf_idf_negative, y_test_elections_tf_idf_negative = train_test_split(X_elections_tf_idf_negative, y_elections_negative, random_state=2, test_size=0.3)\n",
    "\n",
    "# hyparparameter tuning for logistic regression model\n",
    "best_ACC = 0\n",
    "print('logistic regression:')\n",
    "for C in [0.01,0.1,1,1000,10000]:\n",
    "    model = LogisticRegression(C=C)\n",
    "    scores = cross_val_score(model, X_train_elections_tf_idf_negative, y_train_elections_tf_idf_negative, cv=5)\n",
    "    mean_ACC = scores.mean()\n",
    "    print('C =', C, \", accuracy:\", round(mean_ACC*100,2), \"%\")\n",
    "    if mean_ACC > best_ACC:\n",
    "        best_C = C\n",
    "        best_ACC = mean_ACC"
   ]
  },
  {
   "cell_type": "code",
   "execution_count": 40,
   "metadata": {},
   "outputs": [
    {
     "name": "stdout",
     "output_type": "stream",
     "text": [
      "Using logistic regression:\n",
      "Best accuracy: 51.14589665653495 %, optimal hyperparameter C value: 1000\n"
     ]
    }
   ],
   "source": [
    "print('Using logistic regression:')\n",
    "print('Best accuracy:', best_ACC*100, '%, optimal hyperparameter C value:', best_C)"
   ]
  },
  {
   "cell_type": "code",
   "execution_count": 41,
   "metadata": {},
   "outputs": [
    {
     "name": "stdout",
     "output_type": "stream",
     "text": [
      "Naive Bayes:\n",
      "alpha = 0.0001 , accuracy: 44.61 %\n",
      "alpha = 0.001 , accuracy: 44.6 %\n",
      "alpha = 0.01 , accuracy: 47.02 %\n",
      "alpha = 0.1 , accuracy: 47.45 %\n",
      "alpha = 1 , accuracy: 45.6 %\n"
     ]
    }
   ],
   "source": [
    "# hyparparameter tuning for multinomial Naive Bayes model\n",
    "best_ACC = 0\n",
    "print('Naive Bayes:')\n",
    "for alpha in [0.0001,0.001,0.01,0.1,1]:\n",
    "    model = MultinomialNB(alpha=alpha)\n",
    "    scores = cross_val_score(model, X_train_elections_tf_idf_negative, y_train_elections_tf_idf_negative, cv=5)\n",
    "    mean_ACC = scores.mean()\n",
    "    print('alpha =', alpha, \", accuracy:\", round(mean_ACC*100,2), \"%\")\n",
    "    if mean_ACC > best_ACC:\n",
    "        best_alpha = alpha\n",
    "        best_ACC = mean_ACC"
   ]
  },
  {
   "cell_type": "code",
   "execution_count": 42,
   "metadata": {},
   "outputs": [
    {
     "name": "stdout",
     "output_type": "stream",
     "text": [
      "Using multinomial Naive Bayes:\n",
      "Best accuracy: 47.4468085106383 %, optimal hyperparameter alpha value: 0.1\n"
     ]
    }
   ],
   "source": [
    "print('Using multinomial Naive Bayes:')\n",
    "print('Best accuracy:', best_ACC*100, '%, optimal hyperparameter alpha value:', best_alpha)"
   ]
  },
  {
   "cell_type": "code",
   "execution_count": 43,
   "metadata": {},
   "outputs": [
    {
     "name": "stdout",
     "output_type": "stream",
     "text": [
      "gradient-boosted trees:\n",
      "learning rate = 0.001 , accuracy: 49.57 %\n",
      "learning rate = 0.01 , accuracy: 52.56 %\n",
      "learning rate = 0.1 , accuracy: 51.99 %\n",
      "learning rate = 0.2 , accuracy: 50.14 %\n",
      "learning rate = 0.3 , accuracy: 48.72 %\n"
     ]
    }
   ],
   "source": [
    "# hyparparameter tuning for gradient-boosted trees model\n",
    "best_ACC = 0\n",
    "print('gradient-boosted trees:')\n",
    "for lr in [0.001,0.01,0.1,0.2,0.3]:\n",
    "    model = XGBClassifier(learning_rate=lr, verbosity = 0)\n",
    "    scores = cross_val_score(model, X_train_elections_tf_idf_negative, y_train_elections_tf_idf_negative, cv=5)\n",
    "    mean_ACC = scores.mean()\n",
    "    print('learning rate =', lr, \", accuracy:\", round(mean_ACC*100,2), \"%\")\n",
    "    if mean_ACC > best_ACC:\n",
    "        best_lr = lr\n",
    "        best_ACC = mean_ACC"
   ]
  },
  {
   "cell_type": "code",
   "execution_count": 44,
   "metadata": {},
   "outputs": [
    {
     "name": "stdout",
     "output_type": "stream",
     "text": [
      "Using gradient-boosted trees:\n",
      "Best accuracy: 52.556231003039514 %, optimal hyperparameter learning_rate value: 0.01\n"
     ]
    }
   ],
   "source": [
    "print('Using gradient-boosted trees:')\n",
    "print('Best accuracy:', best_ACC*100, '%, optimal hyperparameter learning_rate value:', best_lr)"
   ]
  },
  {
   "cell_type": "code",
   "execution_count": 30,
   "metadata": {},
   "outputs": [],
   "source": [
    "# X_train_elections_tf_idf_negative\n",
    "# X_test_elections_tf_idf_negative\n",
    "# y_train_elections_tf_idf_negative\n",
    "# y_test_elections_tf_idf_negative"
   ]
  },
  {
   "cell_type": "code",
   "execution_count": 45,
   "metadata": {},
   "outputs": [],
   "source": [
    "# using best model to predict negative sentiment reason of test set\n",
    "# the best model is gradient-boosted trees using TF-IDF features and learning rate of 0.01\n",
    "\n",
    "GBT_tf_idf = GBT(X_train_elections_tf_idf_negative, X_test_elections_tf_idf_negative, y_train_elections_tf_idf_negative, y_test_elections_tf_idf_negative, learning_rate=0.01)"
   ]
  },
  {
   "cell_type": "code",
   "execution_count": 46,
   "metadata": {},
   "outputs": [
    {
     "name": "stdout",
     "output_type": "stream",
     "text": [
      "accuracy of best model on predicting negative sentiment reason in test set: 53.64238410596026 %\n"
     ]
    }
   ],
   "source": [
    "print('accuracy of best model on predicting negative sentiment reason in test set:', GBT_tf_idf*100, '%')"
   ]
  },
  {
   "cell_type": "markdown",
   "metadata": {},
   "source": [
    "### Results"
   ]
  },
  {
   "cell_type": "markdown",
   "metadata": {},
   "source": [
    "Q:\n",
    "\n",
    "Answer the research question stated above based on the outputs of your first model. Describe the results of the analysis and discuss your interpretation of the results. Explain how each party is viewed in the public eye based on the sentiment value.\n",
    "\n",
    "Answer:\n",
    "\n",
    "My first model, multinomial Naive Bayes using TF-IDF features, was found to be the best model for predicting the sentiment of tweets. This model was trained on the training set of the sentiment_analysis dataset. The model had an accuracy of 95.56% when tested on the test set of sentiment_analysis, which was the highest out of all the models I implemented. However, when I used this same model (trained on sentiment_analysis training set) to predict the sentiment of the Canadian_elections_2019 dataset, it was only able to achieve an accuracy of 51%. I believe that the main reason for this large drop in accuracy is most likely due to my model being slightly overfitted on the sentiment_analysis dataset.\n",
    "\n",
    "From the bar plot \"Distribution of Predicted and True Tweet Sentiment of Different Political Parties\", it can be seen that the true sentiment of both the Conservative Party and Liberal Party seems to be mostly negative. In contrast, the true sentiment of the New Democratic Party is mostly positive. My model, however, predicted all three political parties to have more positive sentiment than negative sentiment. The true sentiment of the political parties tells us that in the public has mainly negative views on the Conservative Party and the Liberal Party, and has mainly positive views for the New Democratic Party."
   ]
  },
  {
   "cell_type": "markdown",
   "metadata": {},
   "source": [
    "Q:\n",
    "\n",
    "For the second model, based on the model that worked best, provide a few reasons why your model may fail to predict the correct negative reasons. Back up your reasoning with examples from the test sets.\n",
    "\n",
    "Answer:\n",
    "\n",
    "My second model, gradient boosted trees using TF-IDF features with a 0.01 learning rate, was found to be the best model for predicting the reason for negative tweets in the elections dataset. When used on the test set, this model had an accuracy of 53.64%. I believe that there are two main reasons as to why my model may have failed to correctly predict some of the negative reasons of the tweets. The first reason is that some of the negative reasons are very similar to each other. For example, \"scandal\" and \"tell lies\" are very similar to each other, which means that tweets under these two reasons most likely share a lot of key words. To back up my claim, if we look at the test set, we can see that tweet 22 is classified as \"scandal\" and tweet 105 is classified as \"tell lies\", however both of these tweets have the word \"disinformation\" in them. These similarities amongst different target classes may have introduced unnecessary bias into the classification model.\n",
    "\n",
    "The second reason is the presence of the \"Others\" category in the target class (negative reasons). This category is not a single negative reason, but is actually all of the reasons not listed combined into one. Furthermore, if we look at the test set, this \"others\" category is by far the biggest target class out of all of the negative reasons, with a total of 365 tweets in this category. In terms of natural language processing, this can impact the performance of the classification model by introducing unnecessary variance into the data, since tweets in this class will most likely have a very wide variety of different words amongst them."
   ]
  },
  {
   "cell_type": "markdown",
   "metadata": {},
   "source": [
    "Q:\n",
    "\n",
    "For both models, suggest one way you can improve the accuracy of your models.\n",
    "\n",
    "Answer:\n",
    "\n",
    "One way that I can improve my first model (predicting sentiment) is to account for the order of the words in the tweets. Having the machine learning model learn the syntactic information of the tweets will most definitely improve accuracy. A common way to do this is to treat each tweet as a sequence of individual word vectors and train it through a convolutional neural network.\n",
    "\n",
    "A way to improve my second model (predicting negative sentiment reason) would be to increase the maximum features of my TF-IDF vectorizer. Having more features means that the machine learning model will be able to train using a wider variety of words, which will most likely improve the accuracy of the model. Different classes having similar words between each other will not be as big of an issue anymore if number of features are increased, since there are more words for the model to train on."
   ]
  },
  {
   "cell_type": "code",
   "execution_count": null,
   "metadata": {},
   "outputs": [],
   "source": []
  }
 ],
 "metadata": {
  "kernelspec": {
   "display_name": "Python 3",
   "language": "python",
   "name": "python3"
  },
  "language_info": {
   "codemirror_mode": {
    "name": "ipython",
    "version": 3
   },
   "file_extension": ".py",
   "mimetype": "text/x-python",
   "name": "python",
   "nbconvert_exporter": "python",
   "pygments_lexer": "ipython3",
   "version": "3.8.5"
  }
 },
 "nbformat": 4,
 "nbformat_minor": 4
}
